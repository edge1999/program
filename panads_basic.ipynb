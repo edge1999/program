{
  "cells": [
    {
      "cell_type": "markdown",
      "metadata": {
        "id": "view-in-github",
        "colab_type": "text"
      },
      "source": [
        "<a href=\"https://colab.research.google.com/github/edge1999/program/blob/master/panads_basic.ipynb\" target=\"_parent\"><img src=\"https://colab.research.google.com/assets/colab-badge.svg\" alt=\"Open In Colab\"/></a>"
      ]
    },
    {
      "cell_type": "markdown",
      "id": "2bb3be50",
      "metadata": {
        "id": "2bb3be50"
      },
      "source": [
        "# panads"
      ]
    },
    {
      "cell_type": "markdown",
      "id": "2ef843c9",
      "metadata": {
        "id": "2ef843c9"
      },
      "source": [
        "https://pandas.pydata.org"
      ]
    },
    {
      "cell_type": "code",
      "execution_count": null,
      "id": "c60d4e74",
      "metadata": {
        "ExecuteTime": {
          "end_time": "2023-04-04T11:15:30.186184Z",
          "start_time": "2023-04-04T11:15:30.161315Z"
        },
        "id": "c60d4e74"
      },
      "outputs": [],
      "source": [
        "import sys\n",
        "sys.executable"
      ]
    },
    {
      "cell_type": "code",
      "execution_count": null,
      "id": "a26c6036",
      "metadata": {
        "ExecuteTime": {
          "end_time": "2023-04-04T07:52:38.115281Z",
          "start_time": "2023-04-04T07:52:38.110046Z"
        },
        "id": "a26c6036"
      },
      "outputs": [],
      "source": [
        "import numpy as np\n",
        "import pandas as pd\n",
        "\n",
        "import re\n",
        "\n",
        "%matplotlib inline"
      ]
    },
    {
      "cell_type": "code",
      "source": [
        "data = 'https://www.gairuo.com/file/data/dataset/GDP-China.csv'\n",
        "ppd = pd.read_csv(data, header=0).head(5)\n",
        "pdw = pd.DataFrame(pd.read_csv(data, header=0))"
      ],
      "metadata": {
        "id": "wn1V9Xjt98nd"
      },
      "id": "wn1V9Xjt98nd",
      "execution_count": null,
      "outputs": []
    },
    {
      "cell_type": "markdown",
      "id": "2d31d2d7",
      "metadata": {
        "id": "2d31d2d7"
      },
      "source": [
        "## 数据结构"
      ]
    },
    {
      "cell_type": "markdown",
      "id": "761c50ec",
      "metadata": {
        "id": "761c50ec"
      },
      "source": [
        "### [Series](https://pandas.pydata.org/docs/reference/series.html)\n",
        "Series是一个一维标记数组。可以容纳任何数据类型。它类似于DataFrame中的列。序列中的每个元素都被分配了一个称为索引的标签。索引可以是数字索引，也可以是字符串索引。您可以从列表、元组或字典中创建序列。\n",
        "- 元素可以有不同的数据类型，包括数字、字符串和布尔值。\n",
        "- 元素由索引标识，该索引可以是数字索引(隐式索引)，也可以是字符串索引(显式索引)。如果没指定显式索引则使用隐式索引。\n",
        "- 可以使用索引标签对序列进行索引和切片。\n",
        "- 序列可以用于数学运算和数据操作。"
      ]
    },
    {
      "cell_type": "code",
      "execution_count": null,
      "id": "7dd322be",
      "metadata": {
        "ExecuteTime": {
          "end_time": "2023-04-03T02:50:31.885899Z",
          "start_time": "2023-04-03T02:50:31.876077Z"
        },
        "id": "7dd322be"
      },
      "outputs": [],
      "source": [
        "from pandas import Series"
      ]
    },
    {
      "cell_type": "markdown",
      "id": "5859a002",
      "metadata": {
        "id": "5859a002"
      },
      "source": [
        "#### 生成series对象"
      ]
    },
    {
      "cell_type": "code",
      "execution_count": null,
      "id": "cf4a71b3",
      "metadata": {
        "ExecuteTime": {
          "end_time": "2023-04-03T03:05:26.535706Z",
          "start_time": "2023-04-03T03:05:26.519950Z"
        },
        "id": "cf4a71b3"
      },
      "outputs": [],
      "source": [
        "# 列表数据生成series对象时创建显示索引\n",
        "Series([\"tom\", \"lucy\", \"jack\", \"mery\"], index=[\"key1\", \"key2\", \"key3\", \"key4\"])"
      ]
    },
    {
      "cell_type": "code",
      "execution_count": null,
      "id": "a3ff210e",
      "metadata": {
        "ExecuteTime": {
          "end_time": "2023-04-03T05:11:19.934735Z",
          "start_time": "2023-04-03T05:11:19.928055Z"
        },
        "id": "a3ff210e"
      },
      "outputs": [],
      "source": [
        "# 字段数据生成series对象会吧key当作显示索引\n",
        "Series({\"key1\": \"tom\", \"key2\": \"lucy\", \"key3\": \"jack\", \"key4\": \"mery\", })"
      ]
    },
    {
      "cell_type": "code",
      "execution_count": null,
      "id": "355bf9b6",
      "metadata": {
        "ExecuteTime": {
          "end_time": "2023-04-03T05:13:09.563942Z",
          "start_time": "2023-04-03T05:13:09.549659Z"
        },
        "id": "355bf9b6"
      },
      "outputs": [],
      "source": [
        "# 问题点：如果我定义dict数据是，我想定义其他的索引名称，应该如何设置？答案显然：index优先级高于字典键值对\n",
        "Series(data={\"key1\": \"tom\", \"key2\": \"lucy\", \"key3\": \"jack\", \"key4\": \"mery\", }, index=[\"k1\",\"key1\"])"
      ]
    },
    {
      "cell_type": "code",
      "execution_count": null,
      "id": "a899a9ba",
      "metadata": {
        "ExecuteTime": {
          "end_time": "2023-04-03T02:57:53.211797Z",
          "start_time": "2023-04-03T02:57:53.191503Z"
        },
        "id": "a899a9ba"
      },
      "outputs": [],
      "source": [
        "Series(np.random.rand(5))"
      ]
    },
    {
      "cell_type": "markdown",
      "id": "05d1736e",
      "metadata": {
        "id": "05d1736e"
      },
      "source": [
        "#### 复制对象\n",
        "\n",
        "我们可以先创建一个Python列表，然后将其转换为Pandas的Series对象。当我们修改Python列表中的一个元素时，Series对象并不会改变。这是因为Pandas进行的是数据深度复制。"
      ]
    },
    {
      "cell_type": "code",
      "execution_count": null,
      "id": "3b8f8f9a",
      "metadata": {
        "ExecuteTime": {
          "end_time": "2023-04-03T03:02:38.773359Z",
          "start_time": "2023-04-03T03:02:38.763789Z"
        },
        "scrolled": false,
        "id": "3b8f8f9a"
      },
      "outputs": [],
      "source": [
        "pl = [\"tom\", \"lucy\", \"jack\", \"mery\"]\n",
        "pls = Series(pl)"
      ]
    },
    {
      "cell_type": "code",
      "execution_count": null,
      "id": "059afa50",
      "metadata": {
        "ExecuteTime": {
          "end_time": "2023-04-03T03:02:43.958545Z",
          "start_time": "2023-04-03T03:02:43.944263Z"
        },
        "id": "059afa50"
      },
      "outputs": [],
      "source": [
        "print(f\"变更前数据为：{pls}\")\n",
        "pl[0] = \"update -> 1\"\n",
        "print(f\"数据中为0索引的数据修改为：update -> 1\")\n",
        "print(f\"变更后数据为：{pls}\")\n",
        "del pl, pls  # 删除对象引用"
      ]
    },
    {
      "cell_type": "markdown",
      "id": "39b38fed",
      "metadata": {
        "id": "39b38fed"
      },
      "source": [
        "#### 引用对象\n",
        "\n",
        "我们可以先使用NumPy创建一个一维的数组对象，然后将其转换为Pandas的Series对象。当我们修改NumPy数组中的一个元素时，Series对象数据也会随之发生变化。这是因为Pandas默认情况下进行的是数据引用而非深度复制。"
      ]
    },
    {
      "cell_type": "code",
      "execution_count": null,
      "id": "94bf46d3",
      "metadata": {
        "ExecuteTime": {
          "end_time": "2023-04-03T03:03:26.454692Z",
          "start_time": "2023-04-03T03:03:26.445125Z"
        },
        "id": "94bf46d3"
      },
      "outputs": [],
      "source": [
        "pn = np.random.rand(5)\n",
        "pns = Series(pn)"
      ]
    },
    {
      "cell_type": "code",
      "execution_count": null,
      "id": "737be611",
      "metadata": {
        "ExecuteTime": {
          "end_time": "2023-04-03T03:03:27.063922Z",
          "start_time": "2023-04-03T03:03:27.049509Z"
        },
        "id": "737be611"
      },
      "outputs": [],
      "source": [
        "print(f\"变更前数据为：{pns}\")\n",
        "pn[0] = 0.0001\n",
        "print(f\"数据中为0索引的数据修改为：0.00010\")\n",
        "print(f\"变更后数据为：{pns}\")\n",
        "del pn, pns  # 删除对象引用"
      ]
    },
    {
      "cell_type": "markdown",
      "id": "f54595d6",
      "metadata": {
        "id": "f54595d6"
      },
      "source": [
        "### [DataFrame](https://pandas.pydata.org/docs/reference/api/pandas.DataFrame.html#pandas.DataFrame)\n",
        "DataFrame是一个由行和列组成的二维表，DataFrame是一种具有潜在不同类型列的二维标记数据结构。它类似于电子表格或SQL表。DataFrame中的每一列都是一个系列。您可以将DataFrame视为共享同一索引的系列的集合。您可以从各种来源创建DataFrame，包括CSV、Excel、SQL数据库和JSON。当使用Python列表字典时，字典键将用作列标题，每个列表中的值用作DataFrame的列。DataFrame中的每列都是一个Series\n",
        "- 列可以有不同的数据类型，包括数字、字符串和布尔值。\n",
        "- 行由索引标识，该索引可以是数字索引，也可以是字符串索引。\n",
        "- 数据帧可以使用行和列标签进行索引和切片。\n",
        "- 可以对数据帧进行连接、合并和整形以转换数据。"
      ]
    },
    {
      "cell_type": "code",
      "execution_count": null,
      "id": "9d029d6d",
      "metadata": {
        "id": "9d029d6d"
      },
      "outputs": [],
      "source": [
        "from pandas import DataFrame"
      ]
    },
    {
      "cell_type": "markdown",
      "source": [
        "#### 生成DataFrame对象"
      ],
      "metadata": {
        "id": "MvBMGz2ZI-ih"
      },
      "id": "MvBMGz2ZI-ih"
    },
    {
      "cell_type": "code",
      "source": [
        "# 先创建数据源，利用numpy\n",
        "DataFrame(np.arange(6).reshape((2, 3)))"
      ],
      "metadata": {
        "id": "NY-Zva8VI85Y"
      },
      "id": "NY-Zva8VI85Y",
      "execution_count": null,
      "outputs": []
    },
    {
      "cell_type": "markdown",
      "id": "a97ecbe9",
      "metadata": {
        "id": "a97ecbe9"
      },
      "source": [
        "### Panel\n",
        "面板是一个三维标记的阵列，可以容纳任何数据类型。它类似于DataFrame，但有一个额外的维度。Panel中的每个项都是一个DataFrame，每个DataFrame代表一个2维的数据切片。您可以将Panel视为共享相同索引和列标签的DataFrames的集合。"
      ]
    },
    {
      "cell_type": "markdown",
      "id": "0b5d86c0",
      "metadata": {
        "id": "0b5d86c0"
      },
      "source": [
        "### Categorical\n",
        "范畴是一种表示范畴变量的数据结构。它类似于字符串或整数，但可能的值数量有限。类别用于表示具有有限数量的唯一值的数据，如性别、婚姻状况或产品类别。范畴可以是有序的，也可以是无序的，并且可以有特定的出现顺序。"
      ]
    },
    {
      "cell_type": "markdown",
      "id": "a6110dd9",
      "metadata": {
        "id": "a6110dd9"
      },
      "source": [
        "### Sparse\n",
        "稀疏数据结构用于表示具有大量缺失值的数据。稀疏数据结构比密集数据结构使用更少的内存，这使得它们对于处理具有许多缺失值的大型数据集非常有用。您可以使用“SparseArray”或“SparseDataFrame”类将密集的DataFrame或Series转换为稀疏的数据结构。"
      ]
    },
    {
      "cell_type": "markdown",
      "id": "3c5e48c2",
      "metadata": {
        "id": "3c5e48c2"
      },
      "source": [
        "## 数据导入\n",
        "\n",
        "熊猫可以从各种来源读取数据，包括SQL数据库、Excel电子表格、JSON文件和web API。\n"
      ]
    },
    {
      "cell_type": "markdown",
      "id": "78c470ea",
      "metadata": {
        "id": "78c470ea"
      },
      "source": [
        "### 手动创建"
      ]
    },
    {
      "cell_type": "markdown",
      "id": "d08f8b69",
      "metadata": {
        "id": "d08f8b69"
      },
      "source": [
        "要手动将数据存储在表中，请创建一个DataFrame。当使用Python列表字典时，字典键将用作列标题，每个列表中的值用作DataFrame的列。DataFrame中的每列都是一个Series"
      ]
    },
    {
      "cell_type": "code",
      "execution_count": null,
      "id": "ed4ffd3c",
      "metadata": {
        "ExecuteTime": {
          "end_time": "2023-04-04T07:54:12.194964Z",
          "start_time": "2023-04-04T07:54:12.181110Z"
        },
        "id": "ed4ffd3c"
      },
      "outputs": [],
      "source": [
        "pd.DataFrame(\n",
        "    {\n",
        "        \"Name\": [\n",
        "            \"Braund, Mr. Owen Harris\",\n",
        "            \"Allen, Mr. William Henry\",\n",
        "            \"Bonnell, Miss. Elizabeth\",\n",
        "        ],\n",
        "        \"Age\": [22, 35, 58],\n",
        "        \"Sex\": [\"male\", \"male\", \"female\"],\n",
        "    }\n",
        ")[\"Age\"]"
      ]
    },
    {
      "cell_type": "markdown",
      "id": "cdf4aea2",
      "metadata": {
        "id": "cdf4aea2"
      },
      "source": [
        "### database"
      ]
    },
    {
      "cell_type": "markdown",
      "id": "75f7f533",
      "metadata": {
        "id": "75f7f533"
      },
      "source": [
        "#### [read_sql](https://pandas.pydata.org/docs/reference/api/pandas.DataFrame.to_sql.html)"
      ]
    },
    {
      "cell_type": "markdown",
      "id": "1665e671",
      "metadata": {
        "id": "1665e671"
      },
      "source": [
        "### [file](https://pandas.pydata.org/docs/reference/api/)"
      ]
    },
    {
      "cell_type": "code",
      "source": [
        "from google.colab import drive\n",
        "drive.mount('/content/drive')"
      ],
      "metadata": {
        "id": "fBHA2jmavicv"
      },
      "id": "fBHA2jmavicv",
      "execution_count": null,
      "outputs": []
    },
    {
      "cell_type": "markdown",
      "id": "c041929c",
      "metadata": {
        "id": "c041929c"
      },
      "source": [
        "#### [read_csv](https://pandas.pydata.org/docs/reference/api/pandas.DataFrame.to_csv.html)\n",
        "\n",
        "一般情况下，会将读取到的数据返回一个DataFrame，当然按照参数的要求会返回指定的类型。"
      ]
    },
    {
      "cell_type": "markdown",
      "source": [
        "支持文件路径或者文件缓冲对象（CSV文件的扩展名不一定是，有可能是.data），还可以使用URL。"
      ],
      "metadata": {
        "id": "jSIqBznrvxLA"
      },
      "id": "jSIqBznrvxLA"
    },
    {
      "cell_type": "code",
      "source": [
        "pd.read_csv('/content/drive/MyDrive/data/data.csv')"
      ],
      "metadata": {
        "id": "9nCrFLKIt5nh"
      },
      "id": "9nCrFLKIt5nh",
      "execution_count": null,
      "outputs": []
    },
    {
      "cell_type": "code",
      "source": [
        "pd.read_csv('https://www.gairuo.com/file/data/dataset/GDP-China.csv')  # 使用URL"
      ],
      "metadata": {
        "id": "VRU0GkKowHj-"
      },
      "id": "VRU0GkKowHj-",
      "execution_count": null,
      "outputs": []
    },
    {
      "cell_type": "markdown",
      "source": [
        "可以传数据字符串，即CSV中的数据字符以字符串形式直接传入"
      ],
      "metadata": {
        "id": "iLvZ2x06wneR"
      },
      "id": "iLvZ2x06wneR"
    },
    {
      "cell_type": "code",
      "source": [
        "from io import StringIO\n",
        "data = (\n",
        "    'col1,col2,col3\\n'\n",
        "    'a,b,1\\n'\n",
        "    'a,b,2\\n'\n",
        "    'c,d,3'\n",
        "    )\n",
        "pd.read_csv(StringIO(data))\n",
        "pd.read_csv(StringIO(data), dtype=object)\n",
        "del data"
      ],
      "metadata": {
        "id": "3fAzvgNPxVvP"
      },
      "id": "3fAzvgNPxVvP",
      "execution_count": null,
      "outputs": []
    },
    {
      "cell_type": "markdown",
      "source": [
        "传入字节数据"
      ],
      "metadata": {
        "id": "ki8v_Yckx0RZ"
      },
      "id": "ki8v_Yckx0RZ"
    },
    {
      "cell_type": "code",
      "source": [
        "from io import BytesIO\n",
        "data = (b'word,length\\n'\n",
        "        b'Tr\\xc3\\xa4umen,7\\n' \n",
        "        b'Gr\\xc3\\xbc\\xc3\\x9fe,5')\n",
        "pd.read_csv(BytesIO(data))\n",
        "del data"
      ],
      "metadata": {
        "id": "e060eN62xzuZ"
      },
      "id": "e060eN62xzuZ",
      "execution_count": null,
      "outputs": []
    },
    {
      "cell_type": "markdown",
      "source": [
        "##### 分隔符\n",
        "\n",
        "sep参数是字符型的，代表每行数据内容的分隔符号，默认是逗号，另外常见的还有制表符（\\t）、空格等，根据数据的实际情况传值。\n",
        "\n",
        "pd.read_csv还提供了一个参数名为delimiter的定界符，这是一个备选分隔符，是sep的别名，效果和sep一样。如果指定该参数，则sep参数失效。"
      ],
      "metadata": {
        "id": "ISqeNaKyyAKS"
      },
      "id": "ISqeNaKyyAKS"
    },
    {
      "cell_type": "code",
      "source": [
        "pd.read_csv(data, sep='\\t') # 制表符分隔tab\n",
        "pd.read_table(data) # read_table 默认是制表符分隔tab\n",
        "pd.read_csv(data, sep='|') # 制表符分隔tab\n",
        "pd.read_csv(data,sep=\"(?<!a)\\|(?!1)\", engine='python') # 使用正则表达式"
      ],
      "metadata": {
        "id": "hx12GNzRx_2W"
      },
      "id": "hx12GNzRx_2W",
      "execution_count": null,
      "outputs": []
    },
    {
      "cell_type": "markdown",
      "source": [
        "pd.read_csv还提供了一个参数名为delimiter的定界符，这是一个备选分隔符，是sep的别名，效果和sep一样。如果指定该参数，则sep参数失效。"
      ],
      "metadata": {
        "id": "YF6KtV1-zfm4"
      },
      "id": "YF6KtV1-zfm4"
    },
    {
      "cell_type": "markdown",
      "source": [
        "##### 表头\n",
        "\n",
        "header参数支持整型和由整型组成的列表，指定第几行是表头，默认会自动推断把第一行作为表头。注意：如果skip_blank_lines=True，header参数将忽略空行和注释行, 因此header=0表示第一行数据而非文件的第一行。"
      ],
      "metadata": {
        "id": "BhtN-sCrQr1y"
      },
      "id": "BhtN-sCrQr1y"
    },
    {
      "cell_type": "code",
      "source": [
        "pd.read_csv('https://www.gairuo.com/file/data/dataset/GDP-China.csv', header=0) # 第一行"
      ],
      "metadata": {
        "id": "VBsxR-BxSDKn"
      },
      "id": "VBsxR-BxSDKn",
      "execution_count": null,
      "outputs": []
    },
    {
      "cell_type": "code",
      "source": [
        "pd.read_csv('https://www.gairuo.com/file/data/dataset/GDP-China.csv', header=None) # 没有表头"
      ],
      "metadata": {
        "id": "8kpjjN-8SJkM"
      },
      "id": "8kpjjN-8SJkM",
      "execution_count": null,
      "outputs": []
    },
    {
      "cell_type": "code",
      "source": [
        "pd.read_csv('https://www.gairuo.com/file/data/dataset/GDP-China.csv', header=[0,1,3]) # 多层索引MultiIndex"
      ],
      "metadata": {
        "id": "s0TjiTLZzfUa"
      },
      "id": "s0TjiTLZzfUa",
      "execution_count": null,
      "outputs": []
    },
    {
      "cell_type": "markdown",
      "source": [
        "##### 列名\n",
        "\n",
        "names用来指定列的名称，它是一个类似列表的序列，与数据一一对应。如果文件不包含列名，那么应该设置header=None，列名列表中不允许有重复值。"
      ],
      "metadata": {
        "id": "dLm7WU73SdXn"
      },
      "id": "dLm7WU73SdXn"
    },
    {
      "cell_type": "code",
      "source": [
        "pd.read_csv('https://www.gairuo.com/file/data/dataset/GDP-China.csv', names=['列1', '列2', \"列3\", \"列4\", \"列5\", \"列6\"]) # 指定列名列表"
      ],
      "metadata": {
        "id": "r-YO8MDpSgRF"
      },
      "id": "r-YO8MDpSgRF",
      "execution_count": null,
      "outputs": []
    },
    {
      "cell_type": "code",
      "source": [
        "pd.read_csv('https://www.gairuo.com/file/data/dataset/GDP-China.csv', names=['列1', '列2'], header=None)"
      ],
      "metadata": {
        "id": "SigYL7IbSgYE"
      },
      "id": "SigYL7IbSgYE",
      "execution_count": null,
      "outputs": []
    },
    {
      "cell_type": "markdown",
      "id": "1da10eb5",
      "metadata": {
        "id": "1da10eb5"
      },
      "source": [
        "#### [read_excel](https://pandas.pydata.org/docs/reference/api/pandas.DataFrame.to_csv.html)"
      ]
    },
    {
      "cell_type": "markdown",
      "source": [
        "## 数据导出"
      ],
      "metadata": {
        "id": "iJ4Ev7Q1HtbI"
      },
      "id": "iJ4Ev7Q1HtbI"
    },
    {
      "cell_type": "markdown",
      "source": [
        "导出各种文件，插入到各种数据库"
      ],
      "metadata": {
        "id": "uz9nepc4I0w8"
      },
      "id": "uz9nepc4I0w8"
    },
    {
      "cell_type": "markdown",
      "id": "8e840f0f",
      "metadata": {
        "id": "8e840f0f"
      },
      "source": [
        "## 数据查看"
      ]
    },
    {
      "cell_type": "code",
      "source": [
        "pdw.info()  # 信息查看"
      ],
      "metadata": {
        "id": "iHk8Zo06enx_"
      },
      "id": "iHk8Zo06enx_",
      "execution_count": null,
      "outputs": []
    },
    {
      "cell_type": "code",
      "source": [
        "pdw.head(2)  # 查看 DataFrame 的头部可以输入指定查看几行，索引从0开始。"
      ],
      "metadata": {
        "id": "--7sdRCKU8pm"
      },
      "id": "--7sdRCKU8pm",
      "execution_count": null,
      "outputs": []
    },
    {
      "cell_type": "code",
      "source": [
        "pdw.tail(2)  # 查看 DataFrame 的尾部可以输入指定查看几行，索引从-1开始。"
      ],
      "metadata": {
        "id": "HbYnhI0vJAcB"
      },
      "id": "HbYnhI0vJAcB",
      "execution_count": null,
      "outputs": []
    },
    {
      "cell_type": "code",
      "source": [
        "pdw.index  # ⾏标签"
      ],
      "metadata": {
        "id": "jkcAJXkeffzB"
      },
      "id": "jkcAJXkeffzB",
      "execution_count": null,
      "outputs": []
    },
    {
      "cell_type": "code",
      "source": [
        "pdw.columns  # 列标签"
      ],
      "metadata": {
        "id": "ihvJloJufmNr"
      },
      "id": "ihvJloJufmNr",
      "execution_count": null,
      "outputs": []
    },
    {
      "cell_type": "code",
      "source": [
        "pdw.axes  # 返回一个仅以行轴标签和列轴标签为成员的列表"
      ],
      "metadata": {
        "id": "P4u70kZjgzHN"
      },
      "id": "P4u70kZjgzHN",
      "execution_count": null,
      "outputs": []
    },
    {
      "cell_type": "code",
      "source": [
        "pdw.values  # 对象值，⼆维ndarray数组"
      ],
      "metadata": {
        "id": "yA91aHQxfwZH"
      },
      "id": "yA91aHQxfwZH",
      "execution_count": null,
      "outputs": []
    },
    {
      "cell_type": "code",
      "source": [
        "pdw.size  # DataFrame中的元素数量"
      ],
      "metadata": {
        "id": "KHDeU71WgEqz"
      },
      "id": "KHDeU71WgEqz",
      "execution_count": null,
      "outputs": []
    },
    {
      "cell_type": "code",
      "source": [
        "pdw.ndim  # 轴的数量，也指数组的维数"
      ],
      "metadata": {
        "id": "ZFl3k_FagPxQ"
      },
      "id": "ZFl3k_FagPxQ",
      "execution_count": null,
      "outputs": []
    },
    {
      "cell_type": "code",
      "source": [
        "pdw.T  # 行和列转置"
      ],
      "metadata": {
        "id": "G9bijOBDg9rc"
      },
      "id": "G9bijOBDg9rc",
      "execution_count": null,
      "outputs": []
    },
    {
      "cell_type": "code",
      "source": [
        "pdw.empty  # DataFrame中没有数据或者任意坐标轴的长度为0，则返回True"
      ],
      "metadata": {
        "id": "_TD5bUEqgXqk"
      },
      "id": "_TD5bUEqgXqk",
      "execution_count": null,
      "outputs": []
    },
    {
      "cell_type": "markdown",
      "source": [
        "#### 序列数"
      ],
      "metadata": {
        "id": "yCSdroexO0PN"
      },
      "id": "yCSdroexO0PN"
    },
    {
      "cell_type": "code",
      "source": [
        "# 布尔型，默认为False\n",
        "# 下例只取一列，会返回一个Series\n",
        "pd.read_csv(data, usecols=[0], squeeze=True)"
      ],
      "metadata": {
        "id": "74wZeoZyO1og"
      },
      "id": "74wZeoZyO1og",
      "execution_count": null,
      "outputs": []
    },
    {
      "cell_type": "code",
      "source": [
        "# 有两列则还是df\n",
        "pd.read_csv(data, usecols=[0, 2], squeeze=True)"
      ],
      "metadata": {
        "id": "4laRUx2JO55r"
      },
      "id": "4laRUx2JO55r",
      "execution_count": null,
      "outputs": []
    },
    {
      "cell_type": "markdown",
      "source": [
        "#### 数据类型"
      ],
      "metadata": {
        "id": "WMze25VnJFNa"
      },
      "id": "WMze25VnJFNa"
    },
    {
      "cell_type": "code",
      "source": [
        "pdw.dtypes  # 查看数据类型"
      ],
      "metadata": {
        "id": "EWb7POjyfVTF"
      },
      "id": "EWb7POjyfVTF",
      "execution_count": null,
      "outputs": []
    },
    {
      "cell_type": "markdown",
      "source": [
        "#### 形状"
      ],
      "metadata": {
        "id": "MIvtWpCtJve4"
      },
      "id": "MIvtWpCtJve4"
    },
    {
      "cell_type": "code",
      "source": [
        "pdw.shape  # 查看形状（行，列）"
      ],
      "metadata": {
        "id": "XY9NEiC-KZ7E"
      },
      "id": "XY9NEiC-KZ7E",
      "execution_count": null,
      "outputs": []
    },
    {
      "cell_type": "markdown",
      "source": [
        "#### 缺失值"
      ],
      "metadata": {
        "id": "iAVhQtJZJws2"
      },
      "id": "iAVhQtJZJws2"
    },
    {
      "cell_type": "markdown",
      "source": [
        "##### Nan"
      ],
      "metadata": {
        "id": "5ww7QXWtk9C4"
      },
      "id": "5ww7QXWtk9C4"
    },
    {
      "cell_type": "code",
      "source": [
        "pdw.isnull()  # 返回bool，True表示缺失值"
      ],
      "metadata": {
        "id": "i_yTwXdiiJx4"
      },
      "id": "i_yTwXdiiJx4",
      "execution_count": null,
      "outputs": []
    },
    {
      "cell_type": "code",
      "source": [
        "pdw.isnull().any(axis=1)  # 一个序列中有一个Ture，则返回True，否则返回False"
      ],
      "metadata": {
        "id": "OLvuP04YiYPr"
      },
      "id": "OLvuP04YiYPr",
      "execution_count": null,
      "outputs": []
    },
    {
      "cell_type": "code",
      "source": [
        "pdw.isnull().sum()"
      ],
      "metadata": {
        "id": "BEsyy8X9i0qi"
      },
      "id": "BEsyy8X9i0qi",
      "execution_count": null,
      "outputs": []
    },
    {
      "cell_type": "code",
      "source": [
        "pdw.isna()"
      ],
      "metadata": {
        "id": "wfIS4s-yi6YU"
      },
      "id": "wfIS4s-yi6YU",
      "execution_count": null,
      "outputs": []
    },
    {
      "cell_type": "code",
      "source": [
        "pdw.isna().any(axis=1)  # 一个序列中有一个Ture，则返回True，否则返回False"
      ],
      "metadata": {
        "id": "mPVoRq7Li6fM"
      },
      "id": "mPVoRq7Li6fM",
      "execution_count": null,
      "outputs": []
    },
    {
      "cell_type": "code",
      "source": [
        "pdw.isna().sum()"
      ],
      "metadata": {
        "id": "XiKbK1CXi6qj"
      },
      "id": "XiKbK1CXi6qj",
      "execution_count": null,
      "outputs": []
    },
    {
      "cell_type": "code",
      "source": [
        "pdw[pdw.isnull().values==True]"
      ],
      "metadata": {
        "id": "LKcwXuCBjTBa"
      },
      "id": "LKcwXuCBjTBa",
      "execution_count": null,
      "outputs": []
    },
    {
      "cell_type": "code",
      "source": [
        "pdw[pdw.isna().values==True]"
      ],
      "metadata": {
        "id": "4jvza0A9jqSR"
      },
      "id": "4jvza0A9jqSR",
      "execution_count": null,
      "outputs": []
    },
    {
      "cell_type": "code",
      "source": [
        "# 如果某行有多个值是空值，则会重复次数出现，所以我们可以利用df[df.isnull().values==True].drop_duplicates()来去重。\n",
        "pdw[pdw.isnull().values==True].drop_duplicates()"
      ],
      "metadata": {
        "id": "T4idkzI0j3sI"
      },
      "id": "T4idkzI0j3sI",
      "execution_count": null,
      "outputs": []
    },
    {
      "cell_type": "code",
      "source": [
        "pdw[pdw[\"年份\"].notnull()]"
      ],
      "metadata": {
        "id": "gRpm9kM9kC7l"
      },
      "id": "gRpm9kM9kC7l",
      "execution_count": null,
      "outputs": []
    },
    {
      "cell_type": "markdown",
      "source": [
        "##### 空值\n",
        "\n",
        "空值在Pandas中指的是空字符串\"\"，我们同样可以对数据集进行切片找到空值"
      ],
      "metadata": {
        "id": "xOZ_ByH3lBQg"
      },
      "id": "xOZ_ByH3lBQg"
    },
    {
      "cell_type": "code",
      "source": [
        "pdw[pdw[\"年份\"] == \"\"]"
      ],
      "metadata": {
        "id": "CiAfRmtFlJ0r"
      },
      "id": "CiAfRmtFlJ0r",
      "execution_count": null,
      "outputs": []
    },
    {
      "cell_type": "code",
      "source": [
        "# 也可以利用空值与正常值的区别来区分两者，比如isnumeric()方法检测字符串是否只由数字组成。\n",
        "pdw[pdw[\"年份\"].str.isnumeric() == False]"
      ],
      "metadata": {
        "id": "PPA_XkaUlTJX"
      },
      "id": "PPA_XkaUlTJX",
      "execution_count": null,
      "outputs": []
    },
    {
      "cell_type": "markdown",
      "source": [
        "##### 其他\n",
        "\n",
        "比如它们有可能会使用“*”、“？”、“—”、“！”等等字符来表示缺失值。"
      ],
      "metadata": {
        "id": "2O2gw1BClxS-"
      },
      "id": "2O2gw1BClxS-"
    },
    {
      "cell_type": "code",
      "source": [
        "pdw[pdw[\"年份\"].apply(lambda x: len(re.findall('NA|[*|?|!|#|-]', x)) != 0)]"
      ],
      "metadata": {
        "id": "JuBTtcBxl-8b"
      },
      "id": "JuBTtcBxl-8b",
      "execution_count": null,
      "outputs": []
    },
    {
      "cell_type": "markdown",
      "source": [
        "#### 统计查看"
      ],
      "metadata": {
        "id": "k4CUVZCJdWIG"
      },
      "id": "k4CUVZCJdWIG"
    },
    {
      "cell_type": "code",
      "source": [
        "pl.describe()  # 提取所有数字列统计结果（数值型列的汇总统计,计数、平均值、标准差、最⼩值、四分位数、最⼤值） includ=\"object\" 查看字符串类型， includ =\"all\" 查看所有的"
      ],
      "metadata": {
        "id": "LBGRGEv_aouC"
      },
      "id": "LBGRGEv_aouC",
      "execution_count": null,
      "outputs": []
    },
    {
      "cell_type": "code",
      "source": [
        "pl[\"收入\"].mean()  # 数据求均值"
      ],
      "metadata": {
        "id": "lP4VnbwvaNn9"
      },
      "id": "lP4VnbwvaNn9",
      "execution_count": null,
      "outputs": []
    },
    {
      "cell_type": "code",
      "source": [
        "pl[\"收入\"].max()  # 数据求最大值"
      ],
      "metadata": {
        "id": "Jp09289GaYGQ"
      },
      "id": "Jp09289GaYGQ",
      "execution_count": null,
      "outputs": []
    },
    {
      "cell_type": "code",
      "source": [
        "pl[\"收入\"].min()  # 数据求最小值"
      ],
      "metadata": {
        "id": "rD-IyhzwaYJO"
      },
      "id": "rD-IyhzwaYJO",
      "execution_count": null,
      "outputs": []
    },
    {
      "cell_type": "code",
      "source": [
        "pl[\"收入\"].unique()  # 普通去重"
      ],
      "metadata": {
        "id": "i1z2ZIl_aYLy"
      },
      "id": "i1z2ZIl_aYLy",
      "execution_count": null,
      "outputs": []
    },
    {
      "cell_type": "code",
      "source": [
        "pd.Series([1, 3, None, 3, 2, 5]).unique()  # 普通去重"
      ],
      "metadata": {
        "id": "W6uWZ3JQcv-z"
      },
      "id": "W6uWZ3JQcv-z",
      "execution_count": null,
      "outputs": []
    },
    {
      "cell_type": "code",
      "source": [
        "pd.Series([1, 3, None, 3, 2, 5]).nunique()  # 去重计数，不包括None"
      ],
      "metadata": {
        "id": "18_L1UHFbvXI"
      },
      "id": "18_L1UHFbvXI",
      "execution_count": null,
      "outputs": []
    },
    {
      "cell_type": "code",
      "source": [
        "pd.Series([1, 3, None, 3, 2, 5]).nunique(dropna=False)  # 去重计数，包括None"
      ],
      "metadata": {
        "id": "lk6FYD4Xbv1N"
      },
      "id": "lk6FYD4Xbv1N",
      "execution_count": null,
      "outputs": []
    },
    {
      "cell_type": "code",
      "source": [],
      "metadata": {
        "id": "XWu7_l5NlyIj"
      },
      "id": "XWu7_l5NlyIj",
      "execution_count": null,
      "outputs": []
    },
    {
      "cell_type": "code",
      "source": [
        "pd.Series(pl[\"收入\"].unique())  # 去重计数"
      ],
      "metadata": {
        "id": "96vGF8tzbJ8P"
      },
      "id": "96vGF8tzbJ8P",
      "execution_count": null,
      "outputs": []
    },
    {
      "cell_type": "markdown",
      "source": [],
      "metadata": {
        "id": "kA9om8falvqd"
      },
      "id": "kA9om8falvqd"
    },
    {
      "cell_type": "markdown",
      "source": [
        "#### 切片查看\n",
        "\n",
        "支持类似列表的序列和可调用对象"
      ],
      "metadata": {
        "id": "nD5U2cZ7sUTq"
      },
      "id": "nD5U2cZ7sUTq"
    },
    {
      "cell_type": "markdown",
      "source": [
        "##### 列"
      ],
      "metadata": {
        "id": "eskZcdPN-ErJ"
      },
      "id": "eskZcdPN-ErJ"
    },
    {
      "cell_type": "code",
      "source": [
        "pd.read_csv(data, header=0)['年份']"
      ],
      "metadata": {
        "id": "OAZMjyhH8K8Y"
      },
      "id": "OAZMjyhH8K8Y",
      "execution_count": null,
      "outputs": []
    },
    {
      "cell_type": "code",
      "source": [
        "pd.read_csv(data, header=0)[['年份', '国内生产总值']]"
      ],
      "metadata": {
        "id": "Y0u6N0Nd_nc4"
      },
      "id": "Y0u6N0Nd_nc4",
      "execution_count": null,
      "outputs": []
    },
    {
      "cell_type": "markdown",
      "source": [
        "##### usecols"
      ],
      "metadata": {
        "id": "VaXY-STQ99tW"
      },
      "id": "VaXY-STQ99tW"
    },
    {
      "cell_type": "code",
      "source": [
        "# 读取部分列\n",
        "pd.read_csv(data, usecols=[0, 4, 3]) # 按索引只读取指定列，与顺序无关"
      ],
      "metadata": {
        "id": "jCpf_34LsTSx"
      },
      "id": "jCpf_34LsTSx",
      "execution_count": null,
      "outputs": []
    },
    {
      "cell_type": "code",
      "source": [
        "pd.read_csv(data, usecols=['年份', '国内生产总值']) # 按列名，列名必须存在"
      ],
      "metadata": {
        "id": "Mttss-VTsgIV"
      },
      "id": "Mttss-VTsgIV",
      "execution_count": null,
      "outputs": []
    },
    {
      "cell_type": "code",
      "source": [
        "# 指定列顺序，其实是df的筛选功能\n",
        "pd.read_csv(data, usecols=['年份', '国内生产总值'])[['国内生产总值', '年份']]"
      ],
      "metadata": {
        "id": "GzmHDZuOsj5h"
      },
      "id": "GzmHDZuOsj5h",
      "execution_count": null,
      "outputs": []
    },
    {
      "cell_type": "code",
      "source": [
        "# 以下用callable方式可以巧妙指定顺序，in后面的是我们要的顺序\n",
        "pd.read_csv(data, usecols=lambda x: x.upper() in ['年份', '国内生产总值'])"
      ],
      "metadata": {
        "id": "AwidmyeLsrrW"
      },
      "id": "AwidmyeLsrrW",
      "execution_count": null,
      "outputs": []
    },
    {
      "cell_type": "markdown",
      "source": [
        "loc|iloc\n",
        "\n",
        "读取形状（行列）、列名称、索引、数据类型 loc既能查询，又能覆盖写入！\n",
        "loc:根据行、列的标签值查询；\n",
        "iloc:根据行、列的数字位置查询。\n",
        "\n",
        "使用单个label值查询数据行或者列，都可以只传入单个值，实现精确匹配\n",
        "\n",
        ".loc[[行], [列]] | .loc[行, 列]\n",
        "\n",
        "df.loc['2018-01-03°', ['bWendu','yWendu']] 得到Series\n",
        "\n",
        "使用列表批量查询df.loc[['XX0','XX1','XX2'], ['row1']] 得到Series\n",
        "\n",
        "使用列表批量查询df.loc[['XX0','XX1','XX2'], ['row1', 'row2', 'row3']] 得到DataFrame"
      ],
      "metadata": {
        "id": "Dsacbiiyf78y"
      },
      "id": "Dsacbiiyf78y"
    },
    {
      "cell_type": "code",
      "source": [
        "data = 'https://www.gairuo.com/file/data/dataset/GDP-China.csv'"
      ],
      "metadata": {
        "id": "sKxGvZ07f__M"
      },
      "id": "sKxGvZ07f__M",
      "execution_count": null,
      "outputs": []
    },
    {
      "cell_type": "code",
      "source": [
        "ppd = pd.read_csv(data, header=0)"
      ],
      "metadata": {
        "id": "CYbVejG4gH_e"
      },
      "id": "CYbVejG4gH_e",
      "execution_count": null,
      "outputs": []
    },
    {
      "cell_type": "markdown",
      "source": [
        "##### loc\n",
        "\n",
        "根据行、列的标签值查询"
      ],
      "metadata": {
        "id": "hPpWlfRIgime"
      },
      "id": "hPpWlfRIgime"
    },
    {
      "cell_type": "code",
      "source": [
        "ppd.loc[0].head()  # 查看第一行的数据"
      ],
      "metadata": {
        "id": "Z6cNZMLOgZCe"
      },
      "id": "Z6cNZMLOgZCe",
      "execution_count": null,
      "outputs": []
    },
    {
      "cell_type": "code",
      "source": [
        "ppd.loc[0, [\"年份\", \"国民总收入\"]]  # 查看第一行某一项的数据"
      ],
      "metadata": {
        "id": "WQmRi_rTgqnt"
      },
      "id": "WQmRi_rTgqnt",
      "execution_count": null,
      "outputs": []
    },
    {
      "cell_type": "markdown",
      "source": [
        "##### iloc\n",
        "\n",
        "根据行、列的数字位置查询。"
      ],
      "metadata": {
        "id": "uLqAGp8-gAt0"
      },
      "id": "uLqAGp8-gAt0"
    },
    {
      "cell_type": "code",
      "source": [
        "ppd.iloc[0, 0]  # 查看第一行第一列的数据"
      ],
      "metadata": {
        "id": "zdWRCibKg7pq"
      },
      "id": "zdWRCibKg7pq",
      "execution_count": null,
      "outputs": []
    },
    {
      "cell_type": "code",
      "source": [
        "ppd.iloc[0: 2, 0: 2]  # 查看前两行前两列的数据"
      ],
      "metadata": {
        "id": "KFUXFFyGhMHV"
      },
      "id": "KFUXFFyGhMHV",
      "execution_count": null,
      "outputs": []
    },
    {
      "cell_type": "code",
      "source": [
        "ppd.iloc[:, : 2]  # 查看前两列的数据"
      ],
      "metadata": {
        "id": "RHmzyNThhdlx"
      },
      "id": "RHmzyNThhdlx",
      "execution_count": null,
      "outputs": []
    },
    {
      "cell_type": "markdown",
      "source": [
        "## 数据选择"
      ],
      "metadata": {
        "id": "W-igCtbSm1w2"
      },
      "id": "W-igCtbSm1w2"
    },
    {
      "cell_type": "code",
      "source": [
        "data = 'https://www.gairuo.com/file/data/dataset/GDP-China.csv'"
      ],
      "metadata": {
        "id": "4JT2SRE6qY4K"
      },
      "id": "4JT2SRE6qY4K",
      "execution_count": null,
      "outputs": []
    },
    {
      "cell_type": "code",
      "source": [
        "ppd = pd.read_csv(data, header=0).head(5)\n",
        "pdw = pd.DataFrame(pd.read_csv(data, header=0))"
      ],
      "metadata": {
        "id": "KgqJ7TdMqbrX"
      },
      "id": "KgqJ7TdMqbrX",
      "execution_count": null,
      "outputs": []
    },
    {
      "cell_type": "markdown",
      "source": [
        "### 选择行"
      ],
      "metadata": {
        "id": "C4NdfSvtsAZN"
      },
      "id": "C4NdfSvtsAZN"
    },
    {
      "cell_type": "code",
      "source": [
        "pdw[\"年份\"]"
      ],
      "metadata": {
        "id": "7YMghYuCtsQW"
      },
      "id": "7YMghYuCtsQW",
      "execution_count": null,
      "outputs": []
    },
    {
      "cell_type": "markdown",
      "source": [
        "### 选择列"
      ],
      "metadata": {
        "id": "KZNZed2hsDwQ"
      },
      "id": "KZNZed2hsDwQ"
    },
    {
      "cell_type": "markdown",
      "source": [
        "#### lable"
      ],
      "metadata": {
        "id": "3pZZSeO9t5ZJ"
      },
      "id": "3pZZSeO9t5ZJ"
    },
    {
      "cell_type": "code",
      "source": [
        "pdw[[\"年份\"]]  # 简写data.A(只能访问列)"
      ],
      "metadata": {
        "id": "pmDfGfj5t6jB"
      },
      "id": "pmDfGfj5t6jB",
      "execution_count": null,
      "outputs": []
    },
    {
      "cell_type": "code",
      "source": [
        "pdw[[\"年份\", \"国民总收入\"]]  # ----df.loc[[\"a\",\"b\",\"d\"],\"B\"]"
      ],
      "metadata": {
        "id": "vyfmL8-Ot3MG"
      },
      "id": "vyfmL8-Ot3MG",
      "execution_count": null,
      "outputs": []
    },
    {
      "cell_type": "code",
      "source": [
        "pdw.年份"
      ],
      "metadata": {
        "id": "SfBGGhwwyK2a"
      },
      "id": "SfBGGhwwyK2a",
      "execution_count": null,
      "outputs": []
    },
    {
      "cell_type": "markdown",
      "source": [
        "#### loc"
      ],
      "metadata": {
        "id": "_8fgu-v2yWOM"
      },
      "id": "_8fgu-v2yWOM"
    },
    {
      "cell_type": "code",
      "source": [
        "pdw.loc[0, [\"年份\", \"国民总收入\"]]  # 不用列表会自动转series"
      ],
      "metadata": {
        "id": "61DiHbs0yeNK"
      },
      "id": "61DiHbs0yeNK",
      "execution_count": null,
      "outputs": []
    },
    {
      "cell_type": "code",
      "source": [
        "pdw.loc[0:8, [\"年份\", \"国民总收入\"]]  # 不用列表会自动转series"
      ],
      "metadata": {
        "id": "FLFLjd8ozyCY"
      },
      "id": "FLFLjd8ozyCY",
      "execution_count": null,
      "outputs": []
    },
    {
      "cell_type": "markdown",
      "source": [
        "#### iloc"
      ],
      "metadata": {
        "id": "XHmsMWwSybYQ"
      },
      "id": "XHmsMWwSybYQ"
    },
    {
      "cell_type": "code",
      "source": [
        "pdw.iloc[:, : 2]  # 查看前两列的数据"
      ],
      "metadata": {
        "id": "fvjkvFtizNsH"
      },
      "id": "fvjkvFtizNsH",
      "execution_count": null,
      "outputs": []
    },
    {
      "cell_type": "markdown",
      "source": [
        "### 同时选择行列"
      ],
      "metadata": {
        "id": "puLeG1aWsFjO"
      },
      "id": "puLeG1aWsFjO"
    },
    {
      "cell_type": "code",
      "source": [
        "# 选择行标签为 1 和 3，列标签为 '年份', '国民总收入', '国内生产总值' 的数据\n",
        "pdw.loc[[1, 3], ['年份', '国民总收入', '国内生产总值']]"
      ],
      "metadata": {
        "id": "LZDdYOIM9zOi"
      },
      "id": "LZDdYOIM9zOi",
      "execution_count": null,
      "outputs": []
    },
    {
      "cell_type": "code",
      "source": [
        "# 选择行索引为 1 和 3，列索引为 0 和 2 的数据\n",
        "pdw.iloc[[1, 3], [0, 2]]"
      ],
      "metadata": {
        "id": "yOXG4Pd090zm"
      },
      "id": "yOXG4Pd090zm",
      "execution_count": null,
      "outputs": []
    },
    {
      "cell_type": "code",
      "source": [
        "# 选择行中 国民总收入 列值大于 400000，列中列名为 '年份', '国民总收入', '国内生产总值' 的数据\n",
        "pdw.loc[pdw['国民总收入'] > 400000, pdw.columns.isin(['年份', '国民总收入', '国内生产总值'])]"
      ],
      "metadata": {
        "id": "KUFA0gaG910M"
      },
      "id": "KUFA0gaG910M",
      "execution_count": null,
      "outputs": []
    },
    {
      "cell_type": "code",
      "source": [
        "# 选择行中 A 列值大于 2，列名为 'A' 或 'C' 的数据\n",
        "pdw.query('国民总收入 > 400000').filter(items=['年份', '国民总收入', '国内生产总值'])"
      ],
      "metadata": {
        "id": "7blSLsN093Y5"
      },
      "id": "7blSLsN093Y5",
      "execution_count": null,
      "outputs": []
    },
    {
      "cell_type": "markdown",
      "source": [
        "### 条件选择"
      ],
      "metadata": {
        "id": "922jC5hnsI39"
      },
      "id": "922jC5hnsI39"
    },
    {
      "cell_type": "markdown",
      "source": [
        "#### 单条件选择"
      ],
      "metadata": {
        "id": "e99HfHiaHlPl"
      },
      "id": "e99HfHiaHlPl"
    },
    {
      "cell_type": "code",
      "source": [
        "# 选择 年份 列大于 2015 的行\n",
        "pdw[pdw['年份'] > 2015]"
      ],
      "metadata": {
        "id": "hGJwCcUxB5qK"
      },
      "id": "hGJwCcUxB5qK",
      "execution_count": null,
      "outputs": []
    },
    {
      "cell_type": "code",
      "source": [
        "# 选择 年份 列是偶数的行\n",
        "pdw[pdw['年份'] % 2 == 0]"
      ],
      "metadata": {
        "id": "a5lgQZEQCawl"
      },
      "id": "a5lgQZEQCawl",
      "execution_count": null,
      "outputs": []
    },
    {
      "cell_type": "code",
      "source": [
        "# 选择 年份 列不等于 2018 的行\n",
        "pdw[pdw['年份'] != 2018]"
      ],
      "metadata": {
        "id": "3EVPbbBECjpT"
      },
      "id": "3EVPbbBECjpT",
      "execution_count": null,
      "outputs": []
    },
    {
      "cell_type": "markdown",
      "source": [
        "#### 多条件选择"
      ],
      "metadata": {
        "id": "X6FxOHwsIiHq"
      },
      "id": "X6FxOHwsIiHq"
    },
    {
      "cell_type": "code",
      "source": [
        "# 选择 年份 列大于 2000 且 年份 列是偶数的行 '年份', '国民总收入', '国内生产总值'\n",
        "pdw[(pdw['年份'] > 2000) & (pdw['年份'] % 2 == 0)]"
      ],
      "metadata": {
        "id": "TTkhH6A6Il2h"
      },
      "id": "TTkhH6A6Il2h",
      "execution_count": null,
      "outputs": []
    },
    {
      "cell_type": "code",
      "source": [
        "# 选择 年份 列大于 2000 或 国民总收入 列小于 400000 的行\n",
        "pdw[(pdw['年份'] > 2000) | (pdw['国民总收入'] < 400000)]"
      ],
      "metadata": {
        "id": "LRhJNt-sKklU"
      },
      "id": "LRhJNt-sKklU",
      "execution_count": null,
      "outputs": []
    },
    {
      "cell_type": "code",
      "source": [
        "# 选择 年份 列大于 2000 且 B 列不是偶数的行\n",
        "pdw[(pdw['年份'] > 2000) & ~(pdw['国民总收入'] % 2 == 0)]"
      ],
      "metadata": {
        "id": "Sz15J3xLK2RU"
      },
      "id": "Sz15J3xLK2RU",
      "execution_count": null,
      "outputs": []
    },
    {
      "cell_type": "markdown",
      "source": [
        "#### isin"
      ],
      "metadata": {
        "id": "J7F8XYjtIz7Y"
      },
      "id": "J7F8XYjtIz7Y"
    },
    {
      "cell_type": "code",
      "source": [
        "# 选择 年份 列值在给定列表中的行\n",
        "pdw[pdw['年份'].isin([2000, 2002, 2005])]"
      ],
      "metadata": {
        "id": "Yf3WRQZKMCzZ"
      },
      "id": "Yf3WRQZKMCzZ",
      "execution_count": null,
      "outputs": []
    },
    {
      "cell_type": "code",
      "source": [
        "# 选择 年份 列值不在给定列表中的行\n",
        "pdw[~pdw['年份'].isin([2000, 2002, 2005])]"
      ],
      "metadata": {
        "id": "uiNmz8bUMTzf"
      },
      "id": "uiNmz8bUMTzf",
      "execution_count": null,
      "outputs": []
    },
    {
      "cell_type": "markdown",
      "source": [
        "#### query"
      ],
      "metadata": {
        "id": "Nb9BjvQRI1ug"
      },
      "id": "Nb9BjvQRI1ug"
    },
    {
      "cell_type": "code",
      "source": [
        "# 选择 年份 列大于 2000\n",
        "pdw.query('年份 > 2000')"
      ],
      "metadata": {
        "id": "a952Wb13MEPU"
      },
      "id": "a952Wb13MEPU",
      "execution_count": null,
      "outputs": []
    },
    {
      "cell_type": "code",
      "source": [
        "# 选择 年份 列大于 3 且 国民总收入 列是偶数的行\n",
        "pdw.query('年份 > 2000 and 国民总收入 % 2 == 0')"
      ],
      "metadata": {
        "id": "O93SxnHIOjTO"
      },
      "id": "O93SxnHIOjTO",
      "execution_count": null,
      "outputs": []
    },
    {
      "cell_type": "code",
      "source": [
        "# 选择 年份 列值在给定列表中的行\n",
        "values = [2000, 2002, 2005]\n",
        "pdw.query('年份 in @values')"
      ],
      "metadata": {
        "id": "8LzkCtvqOuao"
      },
      "id": "8LzkCtvqOuao",
      "execution_count": null,
      "outputs": []
    },
    {
      "cell_type": "markdown",
      "source": [
        "## 数据新增"
      ],
      "metadata": {
        "id": "fUn-owP2S8Sz"
      },
      "id": "fUn-owP2S8Sz"
    },
    {
      "cell_type": "markdown",
      "source": [
        "### 新增列"
      ],
      "metadata": {
        "id": "-lbJMRT7S_B7"
      },
      "id": "-lbJMRT7S_B7"
    },
    {
      "cell_type": "markdown",
      "source": [
        "#### 直接赋值"
      ],
      "metadata": {
        "id": "DBGOqkrjc_Rn"
      },
      "id": "DBGOqkrjc_Rn"
    },
    {
      "cell_type": "code",
      "source": [
        "# 使用常量值新增列，所有的行都新增数据0\n",
        "pdw['D'] = 0"
      ],
      "metadata": {
        "id": "LrJKuuRATB9R"
      },
      "id": "LrJKuuRATB9R",
      "execution_count": null,
      "outputs": []
    },
    {
      "cell_type": "code",
      "source": [
        "# 使用列运算新增列\n",
        "pdw['E'] = pdw['国内生产总值'] - pdw['国民总收入']"
      ],
      "metadata": {
        "id": "9fR43GJ5dZOH"
      },
      "id": "9fR43GJ5dZOH",
      "execution_count": null,
      "outputs": []
    },
    {
      "cell_type": "markdown",
      "source": [
        "#### assign"
      ],
      "metadata": {
        "id": "zBMeIU3sf3If"
      },
      "id": "zBMeIU3sf3If"
    },
    {
      "cell_type": "code",
      "source": [
        "# 使用常量值或列运算新增列\n",
        "pdw.assign(F=0, G=pdw['第一产业增加值'] + pdw['第二产业增加值'] + pdw['第三产业增加值'])"
      ],
      "metadata": {
        "id": "CTD6Etlvf5wj"
      },
      "id": "CTD6Etlvf5wj",
      "execution_count": null,
      "outputs": []
    },
    {
      "cell_type": "markdown",
      "source": [
        "#### insert"
      ],
      "metadata": {
        "id": "apHcRxuehmQc"
      },
      "id": "apHcRxuehmQc"
    },
    {
      "cell_type": "code",
      "source": [
        "# 在指定位置插入新列\n",
        "pdw.insert(1, 'H', 10)"
      ],
      "metadata": {
        "id": "lOPkq1C1hx5j"
      },
      "id": "lOPkq1C1hx5j",
      "execution_count": null,
      "outputs": []
    },
    {
      "cell_type": "markdown",
      "source": [
        "#### 函数"
      ],
      "metadata": {
        "id": "OEGK6bHujg0g"
      },
      "id": "OEGK6bHujg0g"
    },
    {
      "cell_type": "code",
      "source": [
        "# 使用 apply() 函数根据已有列的值新增列\n",
        "pdw['I'] = pdw['人均国内生产总值'].apply(lambda x: x * 2)"
      ],
      "metadata": {
        "id": "bqMxvEwbjjIo"
      },
      "id": "bqMxvEwbjjIo",
      "execution_count": null,
      "outputs": []
    },
    {
      "cell_type": "code",
      "source": [
        "# 使用 applymap() 函数对整个 DataFrame 进行逐元素操作并新增列\n",
        "pdw['J'] = pdw.applymap(lambda x: x + 10).sum(axis=1)"
      ],
      "metadata": {
        "id": "ciMz75bZjlCI"
      },
      "id": "ciMz75bZjlCI",
      "execution_count": null,
      "outputs": []
    },
    {
      "cell_type": "markdown",
      "source": [
        "### 新增行"
      ],
      "metadata": {
        "id": "0agU6OifTCJF"
      },
      "id": "0agU6OifTCJF"
    },
    {
      "cell_type": "code",
      "source": [
        "df = pd.DataFrame({'A': [1, 2, 3], 'B': [4, 5, 6], 'C': [7, 8, 9]})\n",
        "df.append({'A': 10, 'B': 11, 'C': 12}, ignore_index=True)  # 字典新增"
      ],
      "metadata": {
        "id": "RIz5ndQnTEKV"
      },
      "id": "RIz5ndQnTEKV",
      "execution_count": null,
      "outputs": []
    },
    {
      "cell_type": "code",
      "source": [
        "df.append(pd.Series({'A': 13, 'B': 14, 'C': 15}), ignore_index=True)  # 使用 Series 形式新增行"
      ],
      "metadata": {
        "id": "_-f6zg7gJ0zC"
      },
      "id": "_-f6zg7gJ0zC",
      "execution_count": null,
      "outputs": []
    },
    {
      "cell_type": "code",
      "source": [
        "# 使用 DataFrame 形式新增行\n",
        "df.append(pd.DataFrame({'A': [16, 17], 'B': [18, 19], 'C': [20, 21]}), ignore_index=True)"
      ],
      "metadata": {
        "id": "XUM6YglxTHGL"
      },
      "id": "XUM6YglxTHGL",
      "execution_count": null,
      "outputs": []
    },
    {
      "cell_type": "code",
      "source": [
        "# 使用 concat 函数新增行\n",
        "pd.concat([df, pd.DataFrame({'A': [22, 23], 'B': [24, 25], 'C': [26, 27]})], ignore_index=True)"
      ],
      "metadata": {
        "id": "RP8JDtLeMbwS"
      },
      "id": "RP8JDtLeMbwS",
      "execution_count": null,
      "outputs": []
    },
    {
      "cell_type": "code",
      "source": [
        "# 使用 loc 函数新增行\n",
        "df.loc[len(df)] = {'A': 28, 'B': 29, 'C': 30}"
      ],
      "metadata": {
        "id": "OQb_6h8uMb2O"
      },
      "id": "OQb_6h8uMb2O",
      "execution_count": null,
      "outputs": []
    },
    {
      "cell_type": "markdown",
      "source": [
        "## 数据修改"
      ],
      "metadata": {
        "id": "A_j3_DVYQh7p"
      },
      "id": "A_j3_DVYQh7p"
    },
    {
      "cell_type": "code",
      "source": [
        "df = pd.DataFrame({'A': [1, 2, 3], 'B': [4, 5, 6], 'C': [7, 8, 9]})"
      ],
      "metadata": {
        "id": "tkyJGB-PRSmH"
      },
      "id": "tkyJGB-PRSmH",
      "execution_count": null,
      "outputs": []
    },
    {
      "cell_type": "markdown",
      "source": [
        "### 修改单个值"
      ],
      "metadata": {
        "id": "ZMmJSRlGQjUE"
      },
      "id": "ZMmJSRlGQjUE"
    },
    {
      "cell_type": "code",
      "source": [
        "df.at[1, 'A'] = 10"
      ],
      "metadata": {
        "id": "Kqwe2v3fRWSP"
      },
      "id": "Kqwe2v3fRWSP",
      "execution_count": null,
      "outputs": []
    },
    {
      "cell_type": "code",
      "source": [
        "df.iat[1, 0] = 11"
      ],
      "metadata": {
        "id": "uQl4KYk4Rd4T"
      },
      "id": "uQl4KYk4Rd4T",
      "execution_count": null,
      "outputs": []
    },
    {
      "cell_type": "markdown",
      "source": [
        "### 修改整列"
      ],
      "metadata": {
        "id": "vikjzwIaQoOk"
      },
      "id": "vikjzwIaQoOk"
    },
    {
      "cell_type": "code",
      "source": [
        "df['A'] = df['A'] * 2"
      ],
      "metadata": {
        "id": "ur5i6oEHRY_N"
      },
      "id": "ur5i6oEHRY_N",
      "execution_count": null,
      "outputs": []
    },
    {
      "cell_type": "code",
      "source": [
        "df['B'] = df['B'].apply(lambda x: x + 1)"
      ],
      "metadata": {
        "id": "-BzMgo0pRoCT"
      },
      "id": "-BzMgo0pRoCT",
      "execution_count": null,
      "outputs": []
    },
    {
      "cell_type": "markdown",
      "source": [
        "### 修改多列"
      ],
      "metadata": {
        "id": "MXqrvN27Qs7M"
      },
      "id": "MXqrvN27Qs7M"
    },
    {
      "cell_type": "code",
      "source": [
        "df[['A', 'B']] = df[['A', 'B']].apply(lambda x: x * 2)"
      ],
      "metadata": {
        "id": "Dy5TccVuR3yF"
      },
      "id": "Dy5TccVuR3yF",
      "execution_count": null,
      "outputs": []
    },
    {
      "cell_type": "code",
      "source": [
        "df = df.applymap(lambda x: x + 1)"
      ],
      "metadata": {
        "id": "5kF1EXvvR6zB"
      },
      "id": "5kF1EXvvR6zB",
      "execution_count": null,
      "outputs": []
    },
    {
      "cell_type": "markdown",
      "source": [
        "### 修改整行"
      ],
      "metadata": {
        "id": "zchRn1CRQ8Zr"
      },
      "id": "zchRn1CRQ8Zr"
    },
    {
      "cell_type": "code",
      "source": [
        "df.loc[1] = [10, 11, 12]"
      ],
      "metadata": {
        "id": "GczpJ_8_S9qD"
      },
      "id": "GczpJ_8_S9qD",
      "execution_count": null,
      "outputs": []
    },
    {
      "cell_type": "code",
      "source": [
        "df.iloc[2] = [13, 14, 15]"
      ],
      "metadata": {
        "id": "89qBf7XxTDkn"
      },
      "id": "89qBf7XxTDkn",
      "execution_count": null,
      "outputs": []
    },
    {
      "cell_type": "markdown",
      "source": [
        "### 基于条件修改值"
      ],
      "metadata": {
        "id": "v5qD5NWcRCtu"
      },
      "id": "v5qD5NWcRCtu"
    },
    {
      "cell_type": "code",
      "source": [
        "df.loc[df['A'] > 2, 'A'] = 20"
      ],
      "metadata": {
        "id": "w-rDqa21TI3q"
      },
      "id": "w-rDqa21TI3q",
      "execution_count": null,
      "outputs": []
    },
    {
      "cell_type": "code",
      "source": [
        "df[df['B'] > 4] = 30"
      ],
      "metadata": {
        "id": "aXf715HuTNAG"
      },
      "id": "aXf715HuTNAG",
      "execution_count": null,
      "outputs": []
    },
    {
      "cell_type": "code",
      "source": [
        "df['C'] = df['C'].mask(df['C'] > 7, 40)"
      ],
      "metadata": {
        "id": "4mp9N6_JTN6U"
      },
      "id": "4mp9N6_JTN6U",
      "execution_count": null,
      "outputs": []
    },
    {
      "cell_type": "markdown",
      "source": [
        "### 修改列名"
      ],
      "metadata": {
        "id": "7blomX1sRFwI"
      },
      "id": "7blomX1sRFwI"
    },
    {
      "cell_type": "code",
      "source": [
        "df.columns = ['X', 'Y', 'Z']"
      ],
      "metadata": {
        "id": "Krr0HeTRf7Cj"
      },
      "id": "Krr0HeTRf7Cj",
      "execution_count": null,
      "outputs": []
    },
    {
      "cell_type": "code",
      "source": [
        "df.rename(columns={'X': 'A', 'Y': 'B', 'Z': 'C'})"
      ],
      "metadata": {
        "id": "cK_QEad6gAm2"
      },
      "id": "cK_QEad6gAm2",
      "execution_count": null,
      "outputs": []
    },
    {
      "cell_type": "markdown",
      "source": [
        "### 修改行索引"
      ],
      "metadata": {
        "id": "ZJa8MhocRHAX"
      },
      "id": "ZJa8MhocRHAX"
    },
    {
      "cell_type": "code",
      "source": [
        "df.index = ['one', 'two', 'three']"
      ],
      "metadata": {
        "id": "UFOKA-iKgQ7D"
      },
      "id": "UFOKA-iKgQ7D",
      "execution_count": null,
      "outputs": []
    },
    {
      "cell_type": "code",
      "source": [
        "df.rename(index={'one': 1, 'two': 2, 'three': 3})"
      ],
      "metadata": {
        "id": "HWkZHAfXgSnF"
      },
      "id": "HWkZHAfXgSnF",
      "execution_count": null,
      "outputs": []
    },
    {
      "cell_type": "markdown",
      "source": [
        "## 数据删除"
      ],
      "metadata": {
        "id": "NIh9-8Kdj0Y-"
      },
      "id": "NIh9-8Kdj0Y-"
    },
    {
      "cell_type": "code",
      "source": [
        "df = pd.DataFrame({'A': [1, 2, 3], 'B': [4, 5, 6], 'C': [7, 8, 9]})"
      ],
      "metadata": {
        "id": "0n533dzCkT4N"
      },
      "id": "0n533dzCkT4N",
      "execution_count": null,
      "outputs": []
    },
    {
      "cell_type": "markdown",
      "source": [
        "### 删除列"
      ],
      "metadata": {
        "id": "m4Gitqslj4q5"
      },
      "id": "m4Gitqslj4q5"
    },
    {
      "cell_type": "code",
      "source": [
        "df = df.drop('A', axis=1)"
      ],
      "metadata": {
        "id": "eRxapISLkdYK"
      },
      "id": "eRxapISLkdYK",
      "execution_count": null,
      "outputs": []
    },
    {
      "cell_type": "code",
      "source": [
        "del df['B']"
      ],
      "metadata": {
        "id": "IhZqTtRoktJ4"
      },
      "id": "IhZqTtRoktJ4",
      "execution_count": null,
      "outputs": []
    },
    {
      "cell_type": "code",
      "source": [
        "col_c = df.pop('C')"
      ],
      "metadata": {
        "id": "sE0aW9NIkuNm"
      },
      "id": "sE0aW9NIkuNm",
      "execution_count": null,
      "outputs": []
    },
    {
      "cell_type": "markdown",
      "source": [
        "### 删除行"
      ],
      "metadata": {
        "id": "ivQAyCnqkA0s"
      },
      "id": "ivQAyCnqkA0s"
    },
    {
      "cell_type": "code",
      "source": [
        "df = df.drop(1, axis=0)"
      ],
      "metadata": {
        "id": "guAQRTH8kfOx"
      },
      "id": "guAQRTH8kfOx",
      "execution_count": null,
      "outputs": []
    },
    {
      "cell_type": "code",
      "source": [
        "df = df[df.index != 2]"
      ],
      "metadata": {
        "id": "JUMyFaz1lS5r"
      },
      "id": "JUMyFaz1lS5r",
      "execution_count": null,
      "outputs": []
    },
    {
      "cell_type": "markdown",
      "source": [
        "### 删除特定行和列"
      ],
      "metadata": {
        "id": "zzo11kUpkELw"
      },
      "id": "zzo11kUpkELw"
    },
    {
      "cell_type": "code",
      "source": [
        "df = df.drop(index=0, columns='A')"
      ],
      "metadata": {
        "id": "V5hveJ5ukkrM"
      },
      "id": "V5hveJ5ukkrM",
      "execution_count": null,
      "outputs": []
    },
    {
      "cell_type": "markdown",
      "source": [
        "### 删除缺失值的行或列"
      ],
      "metadata": {
        "id": "WcmBESr4kHIH"
      },
      "id": "WcmBESr4kHIH"
    },
    {
      "cell_type": "code",
      "source": [
        "# 假设有以下 DataFrame，含有缺失值\n",
        "df = pd.DataFrame({'A': [1, 2, None], 'B': [4, None, 6], 'C': [7, 8, 9]})"
      ],
      "metadata": {
        "id": "R2VD2h39kpXk"
      },
      "id": "R2VD2h39kpXk",
      "execution_count": null,
      "outputs": []
    },
    {
      "cell_type": "code",
      "source": [
        "df = df.dropna(axis=0)  # 删除包含缺失值的行"
      ],
      "metadata": {
        "id": "wZdim-D6lmB7"
      },
      "id": "wZdim-D6lmB7",
      "execution_count": null,
      "outputs": []
    },
    {
      "cell_type": "code",
      "source": [
        "df = df.dropna(axis=1)  # 删除包含缺失值的列"
      ],
      "metadata": {
        "id": "4L-7QodRlnmL"
      },
      "id": "4L-7QodRlnmL",
      "execution_count": null,
      "outputs": []
    },
    {
      "cell_type": "code",
      "source": [
        "df = df.dropna(axis=0).dropna(axis=1)"
      ],
      "metadata": {
        "id": "K2oOh4uNmQfp"
      },
      "id": "K2oOh4uNmQfp",
      "execution_count": null,
      "outputs": []
    },
    {
      "cell_type": "markdown",
      "source": [
        "## 数据过滤"
      ],
      "metadata": {
        "id": "fvXzWj_9SvZU"
      },
      "id": "fvXzWj_9SvZU"
    },
    {
      "cell_type": "code",
      "source": [
        "df = pd.DataFrame({'A': [1, 2, 3, 4, 5], 'B': [6, 7, 8, 9, 10], 'C': [11, 12, 13, 14, 15]})"
      ],
      "metadata": {
        "id": "7YoS9w-cUlu4"
      },
      "id": "7YoS9w-cUlu4",
      "execution_count": null,
      "outputs": []
    },
    {
      "cell_type": "markdown",
      "source": [
        "### 基于列值的过滤"
      ],
      "metadata": {
        "id": "htuZ4_hDUl5L"
      },
      "id": "htuZ4_hDUl5L"
    },
    {
      "cell_type": "code",
      "source": [
        "# 过滤 A 列值大于 2 的行\n",
        "df[df['A'] > 2]"
      ],
      "metadata": {
        "id": "6xWAVM6nU7Su"
      },
      "id": "6xWAVM6nU7Su",
      "execution_count": null,
      "outputs": []
    },
    {
      "cell_type": "markdown",
      "source": [
        "### 基于行索引的过滤"
      ],
      "metadata": {
        "id": "Ln0x7gTDVAOk"
      },
      "id": "Ln0x7gTDVAOk"
    },
    {
      "cell_type": "code",
      "source": [
        "# 过滤索引为偶数的行\n",
        "df[df.index % 2 == 0]"
      ],
      "metadata": {
        "id": "wxXJKLMBVA7Z"
      },
      "id": "wxXJKLMBVA7Z",
      "execution_count": null,
      "outputs": []
    },
    {
      "cell_type": "markdown",
      "source": [
        "### 使用布尔索引过滤"
      ],
      "metadata": {
        "id": "gMHzO-wLVFnc"
      },
      "id": "gMHzO-wLVFnc"
    },
    {
      "cell_type": "code",
      "source": [
        "# 过滤 A 列值大于 2 且 B 列值小于 10 的行\n",
        "df[(df['A'] > 2) & (df['B'] < 10)]"
      ],
      "metadata": {
        "id": "zz0JWkljVG3k"
      },
      "id": "zz0JWkljVG3k",
      "execution_count": null,
      "outputs": []
    },
    {
      "cell_type": "markdown",
      "source": [
        "### 使用 query 方法过滤"
      ],
      "metadata": {
        "id": "8gtq8nNxVXcM"
      },
      "id": "8gtq8nNxVXcM"
    },
    {
      "cell_type": "code",
      "source": [
        "# 过滤 A 列值大于 2 且 B 列值小于 10 的行\n",
        "df.query('A > 2 and B < 10')"
      ],
      "metadata": {
        "id": "muoI1GsvVZwu"
      },
      "id": "muoI1GsvVZwu",
      "execution_count": null,
      "outputs": []
    },
    {
      "cell_type": "markdown",
      "source": [
        "### 使用自定义函数过滤"
      ],
      "metadata": {
        "id": "VRIZf0NrVfNG"
      },
      "id": "VRIZf0NrVfNG"
    },
    {
      "cell_type": "code",
      "source": [
        "# 过滤 A 列值和 B 列值之和大于 10 的行\n",
        "def sum_greater_than_10(row):\n",
        "    return row['A'] + row['B'] > 10\n",
        "\n",
        "df[df.apply(sum_greater_than_10, axis=1)]"
      ],
      "metadata": {
        "id": "017bYsapVfwg"
      },
      "id": "017bYsapVfwg",
      "execution_count": null,
      "outputs": []
    },
    {
      "cell_type": "markdown",
      "source": [
        "### where\n",
        "\n",
        "Where用来根据条件替换行或列中的值。如果满足条件，保持原来的值，不满足条件则替换为其他值（False元素可以改变，True元素保持不变）。\n",
        "需要注意的是，where 方法在不满足条件的位置填充 NaN。如果你想要过滤掉这些不满足条件的行，可以使用 dropna 方法result.dropna()\n",
        "\n",
        "默认替换为NaN，也可以指定特殊值。`DataFrame.where(cond, other=nan, inplace=False, axis=None, level=None, errors='raise', try_cast=False, raise_on_error=None)`\n",
        "参数作用：\n",
        "\n",
        "cond：布尔条件，如果 cond 为真，保持原来的值，否则替换为other\n",
        "\n",
        "other：替换的特殊值\n",
        "\n",
        "inplace：inplace为真则在原数据上操作，为False则在原数据的copy上操作\n",
        "\n",
        "axis：行或列\n",
        "\n",
        "\n",
        "\n",
        "\n",
        "mask: True元素可以改变，False元素保持不变"
      ],
      "metadata": {
        "id": "GJtZXVvaJpDs"
      },
      "id": "GJtZXVvaJpDs"
    },
    {
      "cell_type": "code",
      "source": [
        "data = 'https://www.gairuo.com/file/data/dataset/GDP-China.csv'\n",
        "ppd = pd.read_csv(data, header=0).head(5)\n",
        "pdw = pd.DataFrame(pd.read_csv(data, header=0))"
      ],
      "metadata": {
        "id": "pZS12jLWJ7RX"
      },
      "execution_count": null,
      "outputs": [],
      "id": "pZS12jLWJ7RX"
    },
    {
      "cell_type": "code",
      "source": [
        "pdw.where(pdw['年份'] == 2018) # 查询 年。列中值为 2018 的行 有Nan值\n",
        "pdw.where(pdw['年份'] == 2018).dropna() # 查询 年。列中值为 2018 的行 无Nan值\n",
        "pdw.loc[pdw['年份'] == 2018] # 查询 年。列中值为 2018 的行"
      ],
      "metadata": {
        "id": "Tv84l0B0J7Ra"
      },
      "execution_count": null,
      "outputs": [],
      "id": "Tv84l0B0J7Ra"
    },
    {
      "cell_type": "code",
      "source": [
        "# 查询 年份 列中值为 2018、2020 或 2017 的行\n",
        "pdw.where(pdw['年份'].isin([2018, 2020, 2017])).dropna()"
      ],
      "metadata": {
        "id": "17L0p0KBJ7Rb"
      },
      "execution_count": null,
      "outputs": [],
      "id": "17L0p0KBJ7Rb"
    },
    {
      "cell_type": "code",
      "source": [
        "# 查询 年份 列中值介于 20185 和 2020 之间（含）的行\n",
        "pdw.where((pdw['年份'] >= 2015) & (pdw['年份'] <= 2020)).dropna()"
      ],
      "metadata": {
        "id": "RxBVSz4VJ7Rb"
      },
      "execution_count": null,
      "outputs": [],
      "id": "RxBVSz4VJ7Rb"
    },
    {
      "cell_type": "code",
      "source": [
        "# 查询 第一产业增加值 列的值大于 第二产业增加值 列的值的行\n",
        "pdw.where(pdw['第一产业增加值'] > pdw['第二产业增加值']).dropna()"
      ],
      "metadata": {
        "id": "t6aJJr7wJ7Rb"
      },
      "execution_count": null,
      "outputs": [],
      "id": "t6aJJr7wJ7Rb"
    },
    {
      "cell_type": "code",
      "source": [
        "# 查询 年份 列中值为偶数的行 布尔过滤\n",
        "def is_even(x):\n",
        "    return x % 2 == 0\n",
        "\n",
        "pdw.where(pdw['年份'].apply(is_even)).dropna()"
      ],
      "metadata": {
        "id": "0huRn4svJ7Rc"
      },
      "execution_count": null,
      "outputs": [],
      "id": "0huRn4svJ7Rc"
    },
    {
      "cell_type": "code",
      "source": [
        "# 创建一个接受两个参数的函数，以过滤 年份 列中值大于某个最小值且小于某个最大值的行。\n",
        "def is_between(x, min_val, max_val):\n",
        "    return (x > min_val) & (x < max_val)\n",
        "\n",
        "min_val = 2013\n",
        "max_val = 2023\n",
        "pdw[pdw['年份'].apply(is_between, args=(min_val, max_val))]"
      ],
      "metadata": {
        "id": "0N4cf0ERKE6O"
      },
      "execution_count": null,
      "outputs": [],
      "id": "0N4cf0ERKE6O"
    },
    {
      "cell_type": "code",
      "source": [
        "# 创建一个接受两个参数的函数，以过滤 A 列中可以被其中一个参数整除的行。\n",
        "def is_divisible_by(x, divisor1, divisor2):\n",
        "    return (x % divisor1 == 0) | (x % divisor2 == 0)\n",
        "\n",
        "divisor1 = 400\n",
        "divisor2 = 100\n",
        "pdw[pdw['年份'].apply(is_divisible_by, args=(divisor1, divisor2))]"
      ],
      "metadata": {
        "id": "bnv5uEBeKE6Q"
      },
      "execution_count": null,
      "outputs": [],
      "id": "bnv5uEBeKE6Q"
    },
    {
      "cell_type": "code",
      "source": [
        "# 创建一个接受多个参数的函数，以过滤满足某种条件组合的行。\n",
        "def combined_condition(row, min_val, divisor1, divisor2):\n",
        "    return (row['年份'] > min_val) & ((row['第一产业增加值'] % divisor1 == 0) | (row['第二产业增加值'] % divisor2 == 0))\n",
        "\n",
        "min_val = 1999\n",
        "divisor1 = 2\n",
        "divisor2 = 3\n",
        "pdw[pdw.apply(combined_condition, axis=1, args=(min_val, divisor1, divisor2))]"
      ],
      "metadata": {
        "id": "zduQX47UKE6R"
      },
      "execution_count": null,
      "outputs": [],
      "id": "zduQX47UKE6R"
    },
    {
      "cell_type": "code",
      "source": [
        "# 查询 第一产业增加值 列中值大于 第二产业增加值 且 第二产业增加值 列中值小于 第三产业增加值 的行\n",
        "pdw.query('第一产业增加值 > 第二产业增加值 & 第二产业增加值 < 第三产业增加值')"
      ],
      "metadata": {
        "id": "X_mDmMY9KE6R"
      },
      "execution_count": null,
      "outputs": [],
      "id": "X_mDmMY9KE6R"
    },
    {
      "cell_type": "code",
      "source": [
        "# 查询 第一产业增加值 列中值大于 第二产业增加值 且 年份 列中值小于 2015 的行\n",
        "pdw.query('第一产业增加值 > 第二产业增加值 & 年份 < 2015')"
      ],
      "metadata": {
        "id": "6kHFy7tYKE6R"
      },
      "execution_count": null,
      "outputs": [],
      "id": "6kHFy7tYKE6R"
    },
    {
      "cell_type": "code",
      "source": [
        "# 使用 loc 方法 过滤 第一产业增加值 列值大于 第二产业增加值 列值的行。\n",
        "pdw.loc[pdw.apply(lambda row: row['第一产业增加值'] > row['第二产业增加值'], axis=1)]"
      ],
      "metadata": {
        "id": "ACyI6K_VKE6R"
      },
      "execution_count": null,
      "outputs": [],
      "id": "ACyI6K_VKE6R"
    },
    {
      "cell_type": "code",
      "source": [
        "# 使用 iloc 方法 过滤 第一产业增加值 列值大于 第二产业增加值 列值的行。\n",
        "filtered_indices = pdw.apply(lambda row: row['第一产业增加值'] > row['第二产业增加值'], axis=1)\n",
        "pdw.iloc[filtered_indices[filtered_indices].index]"
      ],
      "metadata": {
        "id": "sunOSMAKKE6S"
      },
      "execution_count": null,
      "outputs": [],
      "id": "sunOSMAKKE6S"
    },
    {
      "cell_type": "code",
      "source": [
        "# 使用 where 方法 过滤 第一产业增加值 列值大于 第二产业增加值 列值的行。\n",
        "pdw.where(pdw.apply(lambda row: row['第一产业增加值'] > row['第二产业增加值'], axis=1)).dropna()"
      ],
      "metadata": {
        "id": "WlxTcAJ8KE6S"
      },
      "execution_count": null,
      "outputs": [],
      "id": "WlxTcAJ8KE6S"
    },
    {
      "cell_type": "code",
      "source": [
        "# 使用 loc 方法过滤 第一产业增加值 列值和 第二产业增加值 列值 和第三产业增加值之和大于 国内生产总值 列值的行。\n",
        "pdw.loc[pdw.apply(lambda row: row['第一产业增加值'] + row['第二产业增加值'] + row['第三产业增加值'] > row['国内生产总值'], axis=1)]"
      ],
      "metadata": {
        "id": "ryYjIFzHKE6S"
      },
      "execution_count": null,
      "outputs": [],
      "id": "ryYjIFzHKE6S"
    },
    {
      "cell_type": "code",
      "source": [
        "# 使用 iloc 方法过滤 第一产业增加值 列值和 第二产业增加值 列值 和第三产业增加值之和大于 国内生产总值 列值的行。\n",
        "filtered_indices = pdw.apply(lambda row: row['第一产业增加值'] + row['第二产业增加值'] + row['第三产业增加值'] > row['国内生产总值'], axis=1)\n",
        "pdw.iloc[filtered_indices[filtered_indices].index]"
      ],
      "metadata": {
        "id": "L2-IG0Q3KE6T"
      },
      "execution_count": null,
      "outputs": [],
      "id": "L2-IG0Q3KE6T"
    },
    {
      "cell_type": "code",
      "source": [
        "# 使用 where 方法过滤 第一产业增加值 列值和 第二产业增加值 列值 和第三产业增加值之和大于 国内生产总值 列值的行。\n",
        "pdw.where(pdw.apply(lambda row: row['第一产业增加值'] + row['第二产业增加值'] + row['第三产业增加值'] > row['国内生产总值'], axis=1)).dropna()"
      ],
      "metadata": {
        "id": "VrE0LJtFKE6T"
      },
      "execution_count": null,
      "outputs": [],
      "id": "VrE0LJtFKE6T"
    },
    {
      "cell_type": "code",
      "source": [
        "# 使用 loc 方法过滤 第一产业增加值 列值加上 第二产业增加值 列值 加上 第三产业增加值等于 国民总收入 列值的行。\n",
        "pdw.loc[pdw.apply(lambda row: row['第一产业增加值'] - row['第二产业增加值'] + row['第三产业增加值'] == row['国民总收入'], axis=1)]"
      ],
      "metadata": {
        "id": "NQSnwG76KE6T"
      },
      "execution_count": null,
      "outputs": [],
      "id": "NQSnwG76KE6T"
    },
    {
      "cell_type": "code",
      "source": [
        "# 使用 iloc 方法过滤 第一产业增加值 列值加上 第二产业增加值 列值 加上 第三产业增加值等于 国民总收入 列值的行。\n",
        "filtered_indices = pdw.apply(\n",
        "    lambda row: row['第一产业增加值'] - row['第二产业增加值'] + row['第三产业增加值'] == row['国民总收入'], axis=1)\n",
        "pdw.iloc[filtered_indices[filtered_indices].index]"
      ],
      "metadata": {
        "id": "PkRTQmEIKE6U"
      },
      "execution_count": null,
      "outputs": [],
      "id": "PkRTQmEIKE6U"
    },
    {
      "cell_type": "code",
      "source": [
        "# 使用 where 方法过滤 第一产业增加值 列值加上 第二产业增加值 列值 加上 第三产业增加值等于 国民总收入 列值的行。\n",
        "pdw.where(pdw.apply(lambda row: row['第一产业增加值'] - row['第二产业增加值'] + row['第三产业增加值'] == row['国民总收入'],  axis=1)).dropna()"
      ],
      "metadata": {
        "id": "-6HtYpt0KE6U"
      },
      "execution_count": null,
      "outputs": [],
      "id": "-6HtYpt0KE6U"
    },
    {
      "cell_type": "code",
      "source": [
        "ppd.loc[ppd[\"第三产业增加值\"] < 400000, \"第三产业增加值\"] = 400000"
      ],
      "metadata": {
        "id": "kWSTjCtmKE6U"
      },
      "execution_count": null,
      "outputs": [],
      "id": "kWSTjCtmKE6U"
    },
    {
      "cell_type": "code",
      "source": [
        "ppd.loc[~(ppd[\"第三产业增加值\"] <= 425912.1), \"第三产业增加值\"] = 0"
      ],
      "metadata": {
        "id": "DmABZkqrKE6U"
      },
      "execution_count": null,
      "outputs": [],
      "id": "DmABZkqrKE6U"
    },
    {
      "cell_type": "markdown",
      "source": [
        "## 数据值处理\n",
        "\n",
        "数据处理是一个宽泛的概念，通常包括多个步骤，以便从原始数据中提取有用的信息。"
      ],
      "metadata": {
        "id": "SkA7xJtEXBZO"
      },
      "id": "SkA7xJtEXBZO"
    },
    {
      "cell_type": "markdown",
      "source": [
        "### 缺失值处理"
      ],
      "metadata": {
        "id": "syiWwDq6XCin"
      },
      "id": "syiWwDq6XCin"
    },
    {
      "cell_type": "code",
      "source": [
        "df = pd.DataFrame({'A': [1, 2, np.nan, 4, 5],\n",
        "        'B': [6, np.nan, 8, 9, 10],\n",
        "        'C': [11, 12, 13, np.nan, 15]})"
      ],
      "metadata": {
        "id": "CciL_Wn4XGMV"
      },
      "id": "CciL_Wn4XGMV",
      "execution_count": null,
      "outputs": []
    },
    {
      "cell_type": "markdown",
      "source": [
        "#### 使用固定值填充缺失值"
      ],
      "metadata": {
        "id": "9a0Fl7UKZ5ip"
      },
      "id": "9a0Fl7UKZ5ip"
    },
    {
      "cell_type": "code",
      "source": [
        "# 使用固定值填充缺失值\n",
        "df_fillna_fixed_value = df.fillna(value=0)"
      ],
      "metadata": {
        "id": "I0GT8-PcXJeC"
      },
      "id": "I0GT8-PcXJeC",
      "execution_count": null,
      "outputs": []
    },
    {
      "cell_type": "markdown",
      "source": [
        "#### 向前填充"
      ],
      "metadata": {
        "id": "oYFjl7R73EVB"
      },
      "id": "oYFjl7R73EVB"
    },
    {
      "cell_type": "code",
      "source": [
        "# 使用上面一个值填充缺失值\n",
        "df_fillna_forward = df.fillna(method='ffill')  # pad"
      ],
      "metadata": {
        "id": "k44twazU3FPF"
      },
      "id": "k44twazU3FPF",
      "execution_count": null,
      "outputs": []
    },
    {
      "cell_type": "markdown",
      "source": [
        "#### 向后填充"
      ],
      "metadata": {
        "id": "qwtwqf6g3KUt"
      },
      "id": "qwtwqf6g3KUt"
    },
    {
      "cell_type": "code",
      "source": [
        "# 使用下面一个值填充缺失值\n",
        "df_fillna_backward = df.fillna(method='bfill')"
      ],
      "metadata": {
        "id": "I_mS3Cj83LJP"
      },
      "id": "I_mS3Cj83LJP",
      "execution_count": null,
      "outputs": []
    },
    {
      "cell_type": "markdown",
      "source": [
        "#### 其他填充"
      ],
      "metadata": {
        "id": "OI42XRlM3N7O"
      },
      "id": "OI42XRlM3N7O"
    },
    {
      "cell_type": "code",
      "source": [
        "# 使用各列的平均值填充缺失值\n",
        "df_fillna_mean = df.fillna(value=df.mean())"
      ],
      "metadata": {
        "id": "d3EGGffP3Rtj"
      },
      "id": "d3EGGffP3Rtj",
      "execution_count": null,
      "outputs": []
    },
    {
      "cell_type": "code",
      "source": [
        "# 使用各列的中位数填充缺失值\n",
        "df_fillna_median = df.fillna(value=df.median())"
      ],
      "metadata": {
        "id": "ufWKfJTl3S86"
      },
      "id": "ufWKfJTl3S86",
      "execution_count": null,
      "outputs": []
    },
    {
      "cell_type": "code",
      "source": [
        "df_fillna_forward_pad = df.fillna('100')  # 指定值"
      ],
      "metadata": {
        "id": "eqOBgin44RJZ"
      },
      "id": "eqOBgin44RJZ",
      "execution_count": null,
      "outputs": []
    },
    {
      "cell_type": "markdown",
      "source": [
        "### 数据清洗\n",
        "\n",
        "去除重复值\n",
        "垃圾数据处理（例如，删除异常值、错误的输入等）\n",
        "缺失值处理（例如，删除包含缺失值的行/列、填充缺失值等）\n",
        "数据规范化（例如，将数据转换为统一的度量单位、格式等）\n",
        "数据类型转换（例如，将字符串转换为数值、日期等）"
      ],
      "metadata": {
        "id": "GOLd86po57YI"
      },
      "id": "GOLd86po57YI"
    },
    {
      "cell_type": "markdown",
      "source": [
        "### 数据转换\n",
        "\n",
        "特征缩放（例如，归一化、标准化等）\n",
        "特征构造（例如，从现有特征中生成新的特征）\n",
        "特征编码（例如，对类别变量进行独热编码或标签编码）"
      ],
      "metadata": {
        "id": "VfNBIyMF6UzL"
      },
      "id": "VfNBIyMF6UzL"
    },
    {
      "cell_type": "markdown",
      "source": [
        "### 数据透视和重塑\n",
        "\n",
        "（例如，将宽格式数据转换为长格式数据，反之亦然）"
      ],
      "metadata": {
        "id": "CRVRrJGQ6adj"
      },
      "id": "CRVRrJGQ6adj"
    },
    {
      "cell_type": "markdown",
      "source": [
        "### 数据探索与可视化\n",
        "\n",
        "计算描述性统计（例如，均值、中位数、标准差等）\n",
        "绘制图表（例如，柱状图、箱线图、散点图等）\n",
        "分析特征之间的相关性和关系"
      ],
      "metadata": {
        "id": "Xbe4c5jU6b1n"
      },
      "id": "Xbe4c5jU6b1n"
    },
    {
      "cell_type": "markdown",
      "source": [
        "### 数据预处理\n",
        "\n",
        "数据划分（例如，将数据集划分为训练集和测试集）\n",
        "数据抽样（例如，随机抽样、分层抽样等）\n",
        "数据平衡（例如，在不平衡的分类问题中处理不同类别的样本数量）"
      ],
      "metadata": {
        "id": "xIKZqxNp6fjn"
      },
      "id": "xIKZqxNp6fjn"
    },
    {
      "cell_type": "markdown",
      "source": [
        "### 特征选择与降维\n",
        "\n",
        "使用过滤方法进行特征选择（例如，基于相关性、信息增益等）\n",
        "使用包装方法进行特征选择（例如，递归特征消除等）\n",
        "使用嵌入方法进行特征选择（例如，LASSO、Ridge 回归等）\n",
        "使用降维技术（例如，主成分分析（PCA）、t-SNE等）"
      ],
      "metadata": {
        "id": "eZjPrRYU6jbp"
      },
      "id": "eZjPrRYU6jbp"
    },
    {
      "cell_type": "markdown",
      "source": [
        "## 数据排序"
      ],
      "metadata": {
        "id": "IRT8l897VtBM"
      },
      "id": "IRT8l897VtBM"
    },
    {
      "cell_type": "markdown",
      "source": [
        "#### value_counts\n",
        "\n",
        "sort=True： 是否要进行排序；默认进行排序\n",
        "\n",
        "ascending=False： 默认降序排列；\n",
        "\n",
        "normalize=False： 是否要对计算结果进行标准化并显示标准化后的结果，默认是False。 \n",
        "\n",
        "bins=None：可以自定义分组区间，默认是否；\n",
        "\n",
        "dropna=True：是否删除缺失值nan，默认删除\n",
        "\n",
        "注意：缺失值是默认被删除的，也就是不被计算在其中。而且，如果要计数的对象是numpy里的ndarray类型的话，可以用size的方法，同样可以达到上述的效果。"
      ],
      "metadata": {
        "id": "smFURq_LWauT"
      },
      "id": "smFURq_LWauT"
    },
    {
      "cell_type": "code",
      "source": [
        "pd.read_csv(data, header=0)[\"年份\"].value_counts().head(5)  # 可以输入指定查看几行，索引从0开始。"
      ],
      "metadata": {
        "id": "qd3fdYA8Vw73"
      },
      "id": "qd3fdYA8Vw73",
      "execution_count": null,
      "outputs": []
    },
    {
      "cell_type": "code",
      "source": [
        "pl = pd.DataFrame(\n",
        "    {\n",
        "        '城市':['北京','广州', '天津', '上海', '杭州', '成都', '澳门', '南京','北京','北京'],\n",
        "        '收入':[10000, 10000, 5000, 5002, 40000, 50000, 8000, 5000,5000,5000],\n",
        "        '年龄':[50, 43, 34, 40, 25, 25, 45, 32,25,25]}\n",
        "     )\n",
        "pl.set_index([[\"一\",\"二\",\"三\",\"四\",\"五\",\"六\",\"七\",\"八\",\"九\",\"十\"]], inplace=True)\n",
        "pl"
      ],
      "metadata": {
        "id": "8I7ti1M8WJ82"
      },
      "id": "8I7ti1M8WJ82",
      "execution_count": null,
      "outputs": []
    },
    {
      "cell_type": "code",
      "source": [
        "pl[\"城市\"].value_counts()  # sort=True 默认进行排序 ascending=False 默认降序排列；"
      ],
      "metadata": {
        "id": "lJZcua1lY6PV"
      },
      "id": "lJZcua1lY6PV",
      "execution_count": null,
      "outputs": []
    },
    {
      "cell_type": "code",
      "source": [
        "pl[\"城市\"].value_counts(ascending=True)  # ascending=True 升序排列；"
      ],
      "metadata": {
        "id": "vjtRkcuPZcoW"
      },
      "id": "vjtRkcuPZcoW",
      "execution_count": null,
      "outputs": []
    },
    {
      "cell_type": "code",
      "source": [
        "pl[\"收入\"].value_counts(ascending=True, normalize=True)  # 是否要对计算结果进行标准化并显示标准化后的结果，默认是False。"
      ],
      "metadata": {
        "id": "44Kt-QkjZrpA"
      },
      "id": "44Kt-QkjZrpA",
      "execution_count": null,
      "outputs": []
    },
    {
      "cell_type": "markdown",
      "source": [
        "#### sort_values\n",
        "\n",
        "Series的排序参数说明\n",
        "\n",
        "    ascending：默认为True升序排序，为False降序排序\n",
        "\n",
        "    inplace：是否修改原始Series\n",
        "\n",
        "    DataFrame排序参数说明："
      ],
      "metadata": {
        "id": "Em-POz9CdkRd"
      },
      "id": "Em-POz9CdkRd"
    },
    {
      "cell_type": "code",
      "source": [
        "pl[\"城市\"].sort_values(ascending=True, inplace=False)  # ascending=True 升序排列"
      ],
      "metadata": {
        "id": "Dad5UsVAdo5R"
      },
      "id": "Dad5UsVAdo5R",
      "execution_count": null,
      "outputs": []
    },
    {
      "cell_type": "markdown",
      "source": [
        "DataFrame的排序参数说明\n",
        "\n",
        "    by：宇符串或者List<字符串＞，单列排序或者多列排序\n",
        "\n",
        "    ascending：bool或者List，升序还是降序，如果是list对应by的多列\n",
        "\n",
        "    inplace：是否修改原始DataFrame"
      ],
      "metadata": {
        "id": "viRS25XkfT6o"
      },
      "id": "viRS25XkfT6o"
    },
    {
      "cell_type": "code",
      "source": [
        "pl.sort_values(by=[\"城市\"], ascending=True, inplace=False).head(5)  # ascending=True 升序排列"
      ],
      "metadata": {
        "id": "dCBUqSWHfWYO"
      },
      "id": "dCBUqSWHfWYO",
      "execution_count": null,
      "outputs": []
    },
    {
      "cell_type": "markdown",
      "source": [
        "## 数据分组"
      ],
      "metadata": {
        "id": "i402SN1U7rSt"
      },
      "id": "i402SN1U7rSt"
    },
    {
      "cell_type": "code",
      "source": [
        "df = pd.DataFrame({'Category': ['A', 'B', 'A', 'B', 'A', 'B', 'A', 'A'],\n",
        "        'Value': [10, 20, 30, 40, 50, 60, 70, 80]})"
      ],
      "metadata": {
        "id": "UDOS5pa38krG"
      },
      "id": "UDOS5pa38krG",
      "execution_count": null,
      "outputs": []
    },
    {
      "cell_type": "markdown",
      "source": [
        "### groupby"
      ],
      "metadata": {
        "id": "7I7X_A1S8hja"
      },
      "id": "7I7X_A1S8hja"
    },
    {
      "cell_type": "code",
      "source": [
        "grouped = df.groupby('Category')"
      ],
      "metadata": {
        "id": "sEr9iAS18q_m"
      },
      "id": "sEr9iAS18q_m",
      "execution_count": null,
      "outputs": []
    },
    {
      "cell_type": "code",
      "source": [
        "grouped.plot()"
      ],
      "metadata": {
        "id": "vUPS-hpi-0tK"
      },
      "id": "vUPS-hpi-0tK",
      "execution_count": null,
      "outputs": []
    },
    {
      "cell_type": "markdown",
      "source": [
        "### 聚合函数"
      ],
      "metadata": {
        "id": "SH9H3wrz9qsq"
      },
      "id": "SH9H3wrz9qsq"
    },
    {
      "cell_type": "code",
      "source": [
        "# 计算每个分组的平均值\n",
        "grouped.mean()"
      ],
      "metadata": {
        "id": "s0YXYB9D9rYn"
      },
      "id": "s0YXYB9D9rYn",
      "execution_count": null,
      "outputs": []
    },
    {
      "cell_type": "code",
      "source": [
        "# 计算每个分组的计数\n",
        "grouped.count()"
      ],
      "metadata": {
        "id": "RVwJ8ibd-Qg9"
      },
      "id": "RVwJ8ibd-Qg9",
      "execution_count": null,
      "outputs": []
    },
    {
      "cell_type": "code",
      "source": [
        "# 计算每个分组的最大值\n",
        "grouped.max()"
      ],
      "metadata": {
        "id": "-BlmycZ6-Pq6"
      },
      "id": "-BlmycZ6-Pq6",
      "execution_count": null,
      "outputs": []
    },
    {
      "cell_type": "code",
      "source": [
        "# 计算每个分组的最小值\n",
        "grouped.min()"
      ],
      "metadata": {
        "id": "BQwqTEHZ-PCa"
      },
      "id": "BQwqTEHZ-PCa",
      "execution_count": null,
      "outputs": []
    },
    {
      "cell_type": "code",
      "source": [
        "# 计算每个分组的总和\n",
        "grouped.sum()"
      ],
      "metadata": {
        "id": "7tcNwhto-ONG"
      },
      "id": "7tcNwhto-ONG",
      "execution_count": null,
      "outputs": []
    },
    {
      "cell_type": "markdown",
      "source": [
        "### 自定义聚合函数"
      ],
      "metadata": {
        "id": "2_66Qz569vR6"
      },
      "id": "2_66Qz569vR6"
    },
    {
      "cell_type": "code",
      "source": [
        "# 计算每个分组的值的平均值的平方根\n",
        "def sqrt_mean(series):\n",
        "    return np.sqrt(series.mean())\n",
        "\n",
        "grouped['Value'].agg(sqrt_mean)"
      ],
      "metadata": {
        "id": "xNcmhJEZ9_QL"
      },
      "id": "xNcmhJEZ9_QL",
      "execution_count": null,
      "outputs": []
    },
    {
      "cell_type": "markdown",
      "source": [
        "### 对多列进行分组"
      ],
      "metadata": {
        "id": "geC0iN_m-B0b"
      },
      "id": "geC0iN_m-B0b"
    },
    {
      "cell_type": "code",
      "source": [
        "df = pd.DataFrame({'Category': ['A', 'B', 'A', 'B', 'A', 'B', 'A', 'A'],\n",
        "        'Subcategory': ['C', 'C', 'D', 'D', 'C', 'C', 'D', 'D'],\n",
        "        'Value': [10, 20, 30, 40, 50, 60, 70, 80]})\n",
        "\n",
        "# 对 Category 和 Subcategory 列进行分组\n",
        "grouped = df.groupby(['Category', 'Subcategory'])\n",
        "\n",
        "# 计算每个分组的平均值\n",
        "mean_values = grouped.mean()"
      ],
      "metadata": {
        "id": "gbQ63VOG-DUp"
      },
      "id": "gbQ63VOG-DUp",
      "execution_count": null,
      "outputs": []
    },
    {
      "cell_type": "markdown",
      "source": [
        "### apply"
      ],
      "metadata": {
        "id": "KJaDyGQG-JXz"
      },
      "id": "KJaDyGQG-JXz"
    },
    {
      "cell_type": "code",
      "source": [
        "# 计算每个分组的值的范围（最大值 - 最小值）\n",
        "def value_range(series):\n",
        "    return series.max() - series.min()\n",
        "\n",
        "grouped_range = grouped['Value'].apply(value_range)"
      ],
      "metadata": {
        "id": "zcQZaRkF-LUz"
      },
      "id": "zcQZaRkF-LUz",
      "execution_count": null,
      "outputs": []
    },
    {
      "cell_type": "markdown",
      "source": [
        "### transform 分组数据转换"
      ],
      "metadata": {
        "id": "Fv5Iuk-vA-Z5"
      },
      "id": "Fv5Iuk-vA-Z5"
    },
    {
      "cell_type": "code",
      "source": [
        "# transform 分组数据转换 将每个分组的值减去其平均值，以获得归一化的值\n",
        "normalized_values = grouped['Value'].transform(lambda x: x - x.mean())\n",
        "df['NormalizedValue'] = normalized_values"
      ],
      "metadata": {
        "id": "VPpOZn3OA_V4"
      },
      "id": "VPpOZn3OA_V4",
      "execution_count": null,
      "outputs": []
    },
    {
      "cell_type": "code",
      "source": [
        "# 首先，将 A 列值按奇偶性进行分组（odd 或 even），然后计算每组 B 列值的总和：\n",
        "df['A_group'] = df['A'].apply(lambda x: 'odd' if x % 2 == 1 else 'even')\n",
        "grouped = df.groupby('A_group')['B'].sum()"
      ],
      "metadata": {
        "id": "zWUnDKPoBlTT"
      },
      "id": "zWUnDKPoBlTT",
      "execution_count": null,
      "outputs": []
    },
    {
      "cell_type": "markdown",
      "source": [
        "## 数据转换"
      ],
      "metadata": {
        "id": "QtaHprAN_Guc"
      },
      "id": "QtaHprAN_Guc"
    },
    {
      "cell_type": "code",
      "source": [
        "df = pd.DataFrame({\n",
        "    'A': [1, 2, 3, 4, 5],\n",
        "    'B': [6, 7, 8, 9, 10],\n",
        "    'C': ['2023-01-01', '2023-01-02', '2023-01-03', '2023-01-04', '2023-01-05'],\n",
        "    'D': ['apple', 'banana', 'orange', 'pear', 'grape']\n",
        "})"
      ],
      "metadata": {
        "id": "WUfUAtM5AAkR"
      },
      "id": "WUfUAtM5AAkR",
      "execution_count": null,
      "outputs": []
    },
    {
      "cell_type": "code",
      "source": [
        "# 将 A 列的所有值加上 B 列的对应值，并将结果存储在新的 E 列\n",
        "df['E'] = df['A'] + df['B']"
      ],
      "metadata": {
        "id": "8Li-Gg4xBO59"
      },
      "id": "8Li-Gg4xBO59",
      "execution_count": null,
      "outputs": []
    },
    {
      "cell_type": "code",
      "source": [
        "# 使用 apply 方法将 A 列的所有值乘以 2\n",
        "df['A'] = df['A'].apply(lambda x: x * 2)"
      ],
      "metadata": {
        "id": "sAuuPiuBALVf"
      },
      "id": "sAuuPiuBALVf",
      "execution_count": null,
      "outputs": []
    },
    {
      "cell_type": "code",
      "source": [
        "# 将 D 列中的所有字符串转换为大写\n",
        "df['D'] = df['D'].apply(lambda x: x.upper())"
      ],
      "metadata": {
        "id": "r5DY2WIeAt3m"
      },
      "id": "r5DY2WIeAt3m",
      "execution_count": null,
      "outputs": []
    },
    {
      "cell_type": "code",
      "source": [
        "# 将 C 列的日期转换为日期所在的季度，并将结果存储在新的 F 列\n",
        "df['F'] = df['C'].apply(lambda x: pd.Timestamp(x).quarter)"
      ],
      "metadata": {
        "id": "YL_B6Qa2BUXT"
      },
      "id": "YL_B6Qa2BUXT",
      "execution_count": null,
      "outputs": []
    },
    {
      "cell_type": "code",
      "source": [
        "# transform 分组数据转换 将每个分组的值减去其平均值，以获得归一化的值\n",
        "normalized_values = grouped['Value'].transform(lambda x: x - x.mean())\n",
        "df['NormalizedValue'] = normalized_values"
      ],
      "metadata": {
        "id": "-wIAdZeU-HKj"
      },
      "id": "-wIAdZeU-HKj",
      "execution_count": null,
      "outputs": []
    },
    {
      "cell_type": "code",
      "source": [
        "# 首先，将 A 列值按奇偶性进行分组（odd 或 even），然后计算每组 B 列值的总和：\n",
        "df['A_group'] = df['A'].apply(lambda x: 'odd' if x % 2 == 1 else 'even')\n",
        "grouped = df.groupby('A_group')['B'].sum()"
      ],
      "metadata": {
        "id": "C-U62eqZBgbP"
      },
      "id": "C-U62eqZBgbP",
      "execution_count": null,
      "outputs": []
    },
    {
      "cell_type": "markdown",
      "source": [
        "## 数据类型转换"
      ],
      "metadata": {
        "id": "7VpofLk3ASdt"
      },
      "id": "7VpofLk3ASdt"
    },
    {
      "cell_type": "code",
      "source": [
        "df = pd.DataFrame({\n",
        "    'A': [1, 2, 3, 4, 5],\n",
        "    'B': [6, 7, 8, 9, 10],\n",
        "    'C': ['2023-01-01', '2023-01-02', '2023-01-03', '2023-01-04', '2023-01-05'],\n",
        "    'D': ['apple', 'banana', 'orange', 'pear', 'grape']\n",
        "})"
      ],
      "metadata": {
        "id": "usDh6i7HAmDO"
      },
      "id": "usDh6i7HAmDO",
      "execution_count": null,
      "outputs": []
    },
    {
      "cell_type": "code",
      "source": [
        "# 将 C 列的数据类型从字符串转换为 datetime\n",
        "df['C'] = pd.to_datetime(df['C'])"
      ],
      "metadata": {
        "id": "Fv-kRV9WATdn"
      },
      "id": "Fv-kRV9WATdn",
      "execution_count": null,
      "outputs": []
    },
    {
      "cell_type": "code",
      "source": [
        "# 将 B 列的数据类型从整数转换为浮点数\n",
        "df['B'] = df['B'].astype(float)"
      ],
      "metadata": {
        "id": "-94Yi-osA0ce"
      },
      "id": "-94Yi-osA0ce",
      "execution_count": null,
      "outputs": []
    },
    {
      "cell_type": "code",
      "source": [
        "# 将 D 列的数据类型从字符串转换为分类数据\n",
        "df['D'] = df['D'].astype('category')"
      ],
      "metadata": {
        "id": "0pGk_K-lBIPx"
      },
      "id": "0pGk_K-lBIPx",
      "execution_count": null,
      "outputs": []
    },
    {
      "cell_type": "code",
      "source": [
        "# 将 F 列的数据类型从整数转换为字符串\n",
        "df['F'] = df['F'].astype(str)"
      ],
      "metadata": {
        "id": "bWUcG6Q3BZVz"
      },
      "id": "bWUcG6Q3BZVz",
      "execution_count": null,
      "outputs": []
    },
    {
      "cell_type": "markdown",
      "source": [
        "## 数据合并与拆分"
      ],
      "metadata": {
        "id": "zPkOkNuyC7Qv"
      },
      "id": "zPkOkNuyC7Qv"
    },
    {
      "cell_type": "markdown",
      "source": [
        "### 合并"
      ],
      "metadata": {
        "id": "UrApQ6zIDlVC"
      },
      "id": "UrApQ6zIDlVC"
    },
    {
      "cell_type": "markdown",
      "source": [
        "#### concat"
      ],
      "metadata": {
        "id": "H12nMCTiC8F_"
      },
      "id": "H12nMCTiC8F_"
    },
    {
      "cell_type": "code",
      "source": [
        "df1 = pd.DataFrame({'A': [1, 2, 3], 'B': [4, 5, 6]})\n",
        "df2 = pd.DataFrame({'A': [7, 8, 9], 'B': [10, 11, 12]})"
      ],
      "metadata": {
        "id": "4tt6MZERDLHT"
      },
      "id": "4tt6MZERDLHT",
      "execution_count": null,
      "outputs": []
    },
    {
      "cell_type": "code",
      "source": [
        "# 垂直拼接（按行）\n",
        "pd.concat([df1, df2], axis=0, ignore_index=True)"
      ],
      "metadata": {
        "id": "bZaz8lMJDF-V"
      },
      "id": "bZaz8lMJDF-V",
      "execution_count": null,
      "outputs": []
    },
    {
      "cell_type": "code",
      "source": [
        "# 水平拼接（按列）\n",
        "pd.concat([df1, df2], axis=1)"
      ],
      "metadata": {
        "id": "IrRzU9JODOU_"
      },
      "id": "IrRzU9JODOU_",
      "execution_count": null,
      "outputs": []
    },
    {
      "cell_type": "markdown",
      "source": [
        "#### merge"
      ],
      "metadata": {
        "id": "kpZLbz3lDTll"
      },
      "id": "kpZLbz3lDTll"
    },
    {
      "cell_type": "code",
      "source": [
        "df1 = pd.DataFrame({'key': ['A', 'B', 'C'], 'value': [1, 2, 3]})\n",
        "df2 = pd.DataFrame({'key': ['B', 'D', 'E'], 'value': [4, 5, 6]})"
      ],
      "metadata": {
        "id": "acs6Y1wzDaAl"
      },
      "id": "acs6Y1wzDaAl",
      "execution_count": null,
      "outputs": []
    },
    {
      "cell_type": "code",
      "source": [
        "# 使用 merge 进行内连接（inner join）\n",
        "pd.merge(df1, df2, on='key', how='inner', suffixes=('_left', '_right'))"
      ],
      "metadata": {
        "id": "AIEgYi2hD-LV"
      },
      "id": "AIEgYi2hD-LV",
      "execution_count": null,
      "outputs": []
    },
    {
      "cell_type": "code",
      "source": [
        "# 使用 merge 进行左连接（left join）\n",
        "pd.merge(df1, df2, on='key', how='left', suffixes=('_left', '_right'))"
      ],
      "metadata": {
        "id": "wP8v1Vi5Ddff"
      },
      "id": "wP8v1Vi5Ddff",
      "execution_count": null,
      "outputs": []
    },
    {
      "cell_type": "markdown",
      "source": [
        "#### join"
      ],
      "metadata": {
        "id": "mc-8T5DxDVZR"
      },
      "id": "mc-8T5DxDVZR"
    },
    {
      "cell_type": "code",
      "source": [
        "df1 = pd.DataFrame({'key': ['A', 'B', 'C'], 'value': [1, 2, 3]})\n",
        "df2 = pd.DataFrame({'key': ['B', 'D', 'E'], 'value': [4, 5, 6]})"
      ],
      "metadata": {
        "id": "XHfBfKzPDhHP"
      },
      "id": "XHfBfKzPDhHP",
      "execution_count": null,
      "outputs": []
    },
    {
      "cell_type": "code",
      "source": [
        "# 使用 join 进行索引连接\n",
        "df1.set_index('key').join(df2.set_index('key'), lsuffix='_left', rsuffix='_right')"
      ],
      "metadata": {
        "id": "1pPzj6dNDWhn"
      },
      "id": "1pPzj6dNDWhn",
      "execution_count": null,
      "outputs": []
    },
    {
      "cell_type": "markdown",
      "source": [
        "### 拆分"
      ],
      "metadata": {
        "id": "mfAyJAbCDm9W"
      },
      "id": "mfAyJAbCDm9W"
    },
    {
      "cell_type": "code",
      "source": [
        "df = pd.DataFrame({'A': [1, 2, 3, 4, 5], 'B': [6, 7, 8, 9, 10], 'C': [11, 12, 13, 14, 15]})"
      ],
      "metadata": {
        "id": "3C_aFwfwDvQD"
      },
      "id": "3C_aFwfwDvQD",
      "execution_count": null,
      "outputs": []
    },
    {
      "cell_type": "code",
      "source": [
        "# 按行拆分数据\n",
        "n = 2\n",
        "[df.iloc[i:i + n, :] for i in range(0, len(df), n)]"
      ],
      "metadata": {
        "id": "xRfV8C2eDxsJ"
      },
      "id": "xRfV8C2eDxsJ",
      "execution_count": null,
      "outputs": []
    },
    {
      "cell_type": "code",
      "source": [
        "# 按列拆分数据\n",
        "n = 2\n",
        "[df.iloc[:, i:i + n] for i in range(0, len(df.columns), n)]"
      ],
      "metadata": {
        "id": "Em4ogJt9Dz0Z"
      },
      "id": "Em4ogJt9Dz0Z",
      "execution_count": null,
      "outputs": []
    },
    {
      "cell_type": "code",
      "source": [
        "# 使用 groupby 按条件拆分数据\n",
        "def even_odd(x):\n",
        "    return 'even' if x % 2 == 0 else 'odd'\n",
        "\n",
        "grouped = df.groupby(df['A'].apply(even_odd))\n",
        "even_df = grouped.get_group('even')\n",
        "odd_df = grouped.get_group('odd')"
      ],
      "metadata": {
        "id": "lBomn-iSDrvs"
      },
      "id": "lBomn-iSDrvs",
      "execution_count": null,
      "outputs": []
    },
    {
      "cell_type": "markdown",
      "source": [
        "## 数据统计与计算"
      ],
      "metadata": {
        "id": "bVtq9IRjE2MG"
      },
      "id": "bVtq9IRjE2MG"
    },
    {
      "cell_type": "code",
      "source": [
        "df = pd.DataFrame({'A': [1, 2, 3, 4, 5], 'B': [6, 7, 8, 9, 10], 'C': [11, 12, 13, 14, 15]})"
      ],
      "metadata": {
        "id": "itxPOCu4E6H6"
      },
      "id": "itxPOCu4E6H6",
      "execution_count": null,
      "outputs": []
    },
    {
      "cell_type": "markdown",
      "source": [
        "### 基本统计"
      ],
      "metadata": {
        "id": "lH_MR_7zE2pr"
      },
      "id": "lH_MR_7zE2pr"
    },
    {
      "cell_type": "code",
      "source": [
        "# 计算描述性统计信息\n",
        "df.describe()"
      ],
      "metadata": {
        "id": "1LVPDVnZFA0I"
      },
      "id": "1LVPDVnZFA0I",
      "execution_count": null,
      "outputs": []
    },
    {
      "cell_type": "code",
      "source": [
        "# 计算每列的均值\n",
        "df.mean()"
      ],
      "metadata": {
        "id": "fRPd9VRsE4ws"
      },
      "id": "fRPd9VRsE4ws",
      "execution_count": null,
      "outputs": []
    },
    {
      "cell_type": "code",
      "source": [
        "# 计算每列的中位数\n",
        "df.median()"
      ],
      "metadata": {
        "id": "2lUSfyUtE-tQ"
      },
      "id": "2lUSfyUtE-tQ",
      "execution_count": null,
      "outputs": []
    },
    {
      "cell_type": "code",
      "source": [
        "# 计算每列的标准差\n",
        "df.std()"
      ],
      "metadata": {
        "id": "UObTUvVPE_18"
      },
      "id": "UObTUvVPE_18",
      "execution_count": null,
      "outputs": []
    },
    {
      "cell_type": "markdown",
      "source": [
        "### 累计统计"
      ],
      "metadata": {
        "id": "io20oML6FI89"
      },
      "id": "io20oML6FI89"
    },
    {
      "cell_type": "code",
      "source": [
        "# 计算每列的累计和\n",
        "df.cumsum()"
      ],
      "metadata": {
        "id": "dwbhthGUFK3E"
      },
      "id": "dwbhthGUFK3E",
      "execution_count": null,
      "outputs": []
    },
    {
      "cell_type": "code",
      "source": [
        "# 计算每列的累计积\n",
        "df.cumprod()"
      ],
      "metadata": {
        "id": "1ppdStkYFNFM"
      },
      "id": "1ppdStkYFNFM",
      "execution_count": null,
      "outputs": []
    },
    {
      "cell_type": "markdown",
      "source": [
        "### 滚动统计"
      ],
      "metadata": {
        "id": "Kc8DX_4mFQ67"
      },
      "id": "Kc8DX_4mFQ67"
    },
    {
      "cell_type": "code",
      "source": [
        "# 计算每列的 3 个元素滚动平均\n",
        "df.rolling(window=3).mean()"
      ],
      "metadata": {
        "id": "JOu6S-ofFRdQ"
      },
      "id": "JOu6S-ofFRdQ",
      "execution_count": null,
      "outputs": []
    },
    {
      "cell_type": "code",
      "source": [
        "# 计算每列的 3 个元素滚动标准差\n",
        "df.rolling(window=3).std()"
      ],
      "metadata": {
        "id": "DHk8qToVFTl8"
      },
      "id": "DHk8qToVFTl8",
      "execution_count": null,
      "outputs": []
    },
    {
      "cell_type": "markdown",
      "source": [
        "### 自定义统计"
      ],
      "metadata": {
        "id": "-nXO6a6-FXHq"
      },
      "id": "-nXO6a6-FXHq"
    },
    {
      "cell_type": "code",
      "source": [
        "# 计算每列的平均绝对偏差（Mean Absolute Deviation）\n",
        "def mad(series):\n",
        "    return series.mad()\n",
        "\n",
        "df.apply(mad)"
      ],
      "metadata": {
        "id": "3y8NkMXqFY6E"
      },
      "id": "3y8NkMXqFY6E",
      "execution_count": null,
      "outputs": []
    },
    {
      "cell_type": "markdown",
      "source": [
        "### 相关系数与协方差\n",
        "\n",
        "是一种统计学方法，用于衡量两个变量之间的线性关系程度。是衡量两个变量之间的线性关系程度统计指标之一。它的值在-1到1之间，取值为-1表示两个变量完全负相关，取值为1表示两个变量完全正相关，如果相关系数的值为0表示两个变量之间没有线性关系，是无关的。\n",
        "\n",
        "在数据分析中，相关系数通常用于以下几个方面：\n",
        "1．描述变量之间的线性关系。通过计算相关系数，可以确定两个变量之间的关系是正相关、负相关或无关的。\n",
        "\n",
        "2.预测变量之间的关系。如果两个变量之问的相关系数很高，那么可以使用一个变量的值来预测另一个变量的值。\n",
        "\n",
        "3.识别变量之间的复架关系。当变量之间存在多重关系时，相关系数可以帮助我们找到这些关系。\n",
        "\n",
        "可以使用`corr()`函数计算相关系数（该函数返回一个数据框，表示变量之间的相关性）。语法格式如下：\n",
        "`DataFrame.corr(method='pearson', min_periods=1)`\n",
        "\n",
        "其中 method参数指定计算相似度的方法，min_periods 参数指定计算相关系数的最小时间段。\n",
        "\n",
        "Pandas 中的默认方法是皮尔逊相关系数，不同的系数方法有不同的应用场景，例如：\n",
        "\n",
        "1.Pearson 相关系数，适用于两个变量都是连续变量的情況。\n",
        "\n",
        "2.Spearman 相关系数，适用于两个变量都是有序变量的情况\n",
        "\n",
        "3.Kendall相关系数，适用于两个变量都是有序变量的情况。\n",
        "\n",
        "在实际应用中，选择合适的相关系数方法非常重要，否则计算结果可能无法准确反映变量之间的关系。\n",
        "在二元变量的相关分析过程中比较常用的有Pearson相关系数、Spearman秩相关系数和判定系数\n",
        "\n"
      ],
      "metadata": {
        "id": "acxYy40hi8Cv"
      },
      "id": "acxYy40hi8Cv"
    },
    {
      "cell_type": "code",
      "source": [
        "ppd = pd.DataFrame(np.random.randn(5, 5), columns=['a', 'b', 'c', 'd', 'e'])"
      ],
      "metadata": {
        "id": "yv5uW231o9KN"
      },
      "id": "yv5uW231o9KN",
      "execution_count": null,
      "outputs": []
    },
    {
      "cell_type": "code",
      "source": [
        "ppd.corr()   # 计算任意两款菜式之间的相关系数"
      ],
      "metadata": {
        "id": "ct8SMb97lHsj"
      },
      "id": "ct8SMb97lHsj",
      "execution_count": null,
      "outputs": []
    },
    {
      "cell_type": "code",
      "source": [
        "ppd.corr()['a']   # 显示第一列于其他列相关系数"
      ],
      "metadata": {
        "id": "pIdJDkNxlJHr"
      },
      "id": "pIdJDkNxlJHr",
      "execution_count": null,
      "outputs": []
    },
    {
      "cell_type": "code",
      "source": [
        "ppd['a'].corr(ppd['b'])   # 显示两列之间相关系数"
      ],
      "metadata": {
        "id": "P1cZvUlSjVXE"
      },
      "id": "P1cZvUlSjVXE",
      "execution_count": null,
      "outputs": []
    },
    {
      "cell_type": "markdown",
      "source": [
        "如果我们只对每种变量之间的相关系数计算感兴趣，可以调用 corrwith()函数"
      ],
      "metadata": {
        "id": "xKLSvUdXof6R"
      },
      "id": "xKLSvUdXof6R"
    },
    {
      "cell_type": "code",
      "source": [
        "ppd1 = pd.DataFrame(np.random.randn(5, 5), columns=['a', 'b', 'c', 'd', 'e'])\n",
        "ppd2 = pd.DataFrame(np.random.randn(5, 5), columns=['a', 'b', 'c', 'd', 'e'])"
      ],
      "metadata": {
        "id": "aO9fcDKYi7ZG"
      },
      "id": "aO9fcDKYi7ZG",
      "execution_count": null,
      "outputs": []
    },
    {
      "cell_type": "code",
      "source": [
        "ppd1.corrwith(ppd2)"
      ],
      "metadata": {
        "id": "bFA9r3tQoUx0"
      },
      "id": "bFA9r3tQoUx0",
      "execution_count": null,
      "outputs": []
    },
    {
      "cell_type": "markdown",
      "source": [
        "Pandas 的相关系数函数不仅仅可以用来计算连续变量之间的相关系数，还可以用来处理分类变量或将分类变量转化为数字变量的任务。例如，可以使用 get_dummies()函数将分类变量转化为数值变量，然后计算它们之间的相关系数，例如："
      ],
      "metadata": {
        "id": "3a2I3J8apKaH"
      },
      "id": "3a2I3J8apKaH"
    },
    {
      "cell_type": "code",
      "source": [
        "ppd = pd.DataFrame({\"A\":[\"foo\",\"foo\",\"foo\",\"bar\",\"bar\",\"bar\",\"foo\",\"foo\",], \"Type\":[\"type1\",\"type1\",\"type2\",\"type2\",\"type1\",\"type2\",\"type1\",\"type1\",]})"
      ],
      "metadata": {
        "id": "7iYsyhy6pEVk"
      },
      "id": "7iYsyhy6pEVk",
      "execution_count": null,
      "outputs": []
    },
    {
      "cell_type": "code",
      "source": [
        "ppdo = pd.get_dummies(ppd[\"Type\"], prefix=\"category\")"
      ],
      "metadata": {
        "id": "2AmH2BHEp34X"
      },
      "id": "2AmH2BHEp34X",
      "execution_count": null,
      "outputs": []
    },
    {
      "cell_type": "code",
      "source": [
        "ppd = pd.concat([ppd, ppdo], axis=1)\n",
        "correlation_matrix = ppd.corr()"
      ],
      "metadata": {
        "id": "p0ivlLV7qYBD"
      },
      "id": "p0ivlLV7qYBD",
      "execution_count": null,
      "outputs": []
    },
    {
      "cell_type": "markdown",
      "source": [
        "## 数据关联分析"
      ],
      "metadata": {
        "id": "g1LCfkaUFg48"
      },
      "id": "g1LCfkaUFg48"
    },
    {
      "cell_type": "code",
      "source": [
        "df = pd.DataFrame({'A': [1, 2, 3, 4, 5], 'B': [2, 4, 6, 8, 10], 'C': [5, 4, 3, 2, 1]})"
      ],
      "metadata": {
        "id": "MK_UdMZYF1ve"
      },
      "id": "MK_UdMZYF1ve",
      "execution_count": null,
      "outputs": []
    },
    {
      "cell_type": "markdown",
      "source": [
        "### corr\n",
        "\n",
        "这将返回一个相关性矩阵，显示每对列之间的 Pearson 相关系数（默认情况下）。"
      ],
      "metadata": {
        "id": "abDxKsVfFzjo"
      },
      "id": "abDxKsVfFzjo"
    },
    {
      "cell_type": "code",
      "source": [
        "df.corr()"
      ],
      "metadata": {
        "id": "6cxtZ4MtF640"
      },
      "id": "6cxtZ4MtF640",
      "execution_count": null,
      "outputs": []
    },
    {
      "cell_type": "markdown",
      "source": [
        "### 分析分类变量之间的关系"
      ],
      "metadata": {
        "id": "n_yYxh2NGLgH"
      },
      "id": "n_yYxh2NGLgH"
    },
    {
      "cell_type": "code",
      "source": [
        "df = pd.DataFrame({'Gender': ['M', 'F', 'M', 'F', 'M'], 'Job': ['Engineer', 'Doctor', 'Engineer', 'Doctor', 'Engineer']})"
      ],
      "metadata": {
        "id": "PCLTtVZHGgRI"
      },
      "id": "PCLTtVZHGgRI",
      "execution_count": null,
      "outputs": []
    },
    {
      "cell_type": "code",
      "source": [
        "# 可以使用 crosstab 函数创建一个交叉表，以查看 'Gender' 和 'Job' 之间的关系：这将返回一个交叉表，显示每个性别和职业组合的频数\n",
        "pd.crosstab(df['Gender'], df['Job'])"
      ],
      "metadata": {
        "id": "NK_fsxAvGML3"
      },
      "id": "NK_fsxAvGML3",
      "execution_count": null,
      "outputs": []
    },
    {
      "cell_type": "markdown",
      "source": [
        "### 计算列之间的其他相关性度量"
      ],
      "metadata": {
        "id": "mFTDlzfeGZH3"
      },
      "id": "mFTDlzfeGZH3"
    },
    {
      "cell_type": "code",
      "source": [
        "df = pd.DataFrame({'Gender': ['M', 'F', 'M', 'F', 'M'], 'Job': ['Engineer', 'Doctor', 'Engineer', 'Doctor', 'Engineer']})"
      ],
      "metadata": {
        "id": "L1HI0EceGg1L"
      },
      "id": "L1HI0EceGg1L",
      "execution_count": null,
      "outputs": []
    },
    {
      "cell_type": "code",
      "source": [
        "df.corr(method='spearman')"
      ],
      "metadata": {
        "id": "gfK2pxxOGZ2j"
      },
      "id": "gfK2pxxOGZ2j",
      "execution_count": null,
      "outputs": []
    },
    {
      "cell_type": "code",
      "source": [
        "df.corr(method='kendall')"
      ],
      "metadata": {
        "id": "5BDofZtQGjqN"
      },
      "id": "5BDofZtQGjqN",
      "execution_count": null,
      "outputs": []
    },
    {
      "cell_type": "markdown",
      "source": [
        "### 使用卡方检验分析分类变量之间的关系\n",
        "\n",
        "可以对分类变量进行卡方检验，以确定它们之间是否存在统计学上的关联。在这个例子中，我们将使用 scipy.stats 中的 chi2_contingency 函数：这将计算卡方统计量、p 值、自由度和期望频率。根据 p 值，我们可以判断分类变量之间是否存在关联。"
      ],
      "metadata": {
        "id": "T4Mmom-5GoXv"
      },
      "id": "T4Mmom-5GoXv"
    },
    {
      "cell_type": "code",
      "source": [
        "from scipy.stats import chi2_contingency\n",
        "\n",
        "df = pd.DataFrame({'Gender': ['M', 'F', 'M', 'F', 'M'], 'Job': ['Engineer', 'Doctor', 'Engineer', 'Doctor', 'Engineer']})\n",
        "crosstab = pd.crosstab(df['Gender'], df['Job'])\n",
        "\n",
        "chi2, p_value, dof, expected_freq = chi2_contingency(crosstab)"
      ],
      "metadata": {
        "id": "KqNfNhiXGsY6"
      },
      "id": "KqNfNhiXGsY6",
      "execution_count": null,
      "outputs": []
    },
    {
      "cell_type": "markdown",
      "source": [
        "## 数据重塑与透视"
      ],
      "metadata": {
        "id": "V0ohGCAlHh9L"
      },
      "id": "V0ohGCAlHh9L"
    },
    {
      "cell_type": "code",
      "source": [
        "df = pd.DataFrame({\n",
        "    \"Region\": [\"North\", \"South\", \"West\", \"East\"],\n",
        "    \"Sales\": [1000, 1500, 1200, 1800],\n",
        "    \"Quantity\": [30, 45, 20, 60]\n",
        "})"
      ],
      "metadata": {
        "id": "7YVQTgASHj4_"
      },
      "id": "7YVQTgASHj4_",
      "execution_count": null,
      "outputs": []
    },
    {
      "cell_type": "markdown",
      "source": [
        "### 重塑"
      ],
      "metadata": {
        "id": "PIlx9FYHHl_f"
      },
      "id": "PIlx9FYHHl_f"
    },
    {
      "cell_type": "code",
      "source": [
        "# melt 将宽格式数据转换为长格式数据\n",
        "melted_df = df.melt(id_vars=[\"Region\"], var_name=\"Metric\", value_name=\"Value\")"
      ],
      "metadata": {
        "id": "WrXfbyRTHvdQ"
      },
      "id": "WrXfbyRTHvdQ",
      "execution_count": null,
      "outputs": []
    },
    {
      "cell_type": "code",
      "source": [
        "# pivot 将长格式数据转换为宽格式数据\n",
        "pivoted_df = melted_df.pivot(index=\"Region\", columns=\"Metric\", values=\"Value\")"
      ],
      "metadata": {
        "id": "Y2IDx7fKHzh7"
      },
      "id": "Y2IDx7fKHzh7",
      "execution_count": null,
      "outputs": []
    },
    {
      "cell_type": "code",
      "source": [
        "# 使用 stack 将列转换为行\n",
        "stacked_df = df.set_index(\"Region\").stack().reset_index().rename(columns={\"level_1\": \"Metric\", 0: \"Value\"})"
      ],
      "metadata": {
        "id": "N3Hl6_eUH3A8"
      },
      "id": "N3Hl6_eUH3A8",
      "execution_count": null,
      "outputs": []
    },
    {
      "cell_type": "code",
      "source": [
        "# 使用 unstack 将行转换为列\n",
        "unstacked_df = stacked_df.set_index([\"Region\", \"Metric\"]).unstack().reset_index()"
      ],
      "metadata": {
        "id": "c4IMy9CrH3Hh"
      },
      "id": "c4IMy9CrH3Hh",
      "execution_count": null,
      "outputs": []
    },
    {
      "cell_type": "markdown",
      "source": [
        "### 透视"
      ],
      "metadata": {
        "id": "PtLjh3MsIDm0"
      },
      "id": "PtLjh3MsIDm0"
    },
    {
      "cell_type": "code",
      "source": [
        "# 使用 pivot_table 创建数据透视表\n",
        "df = pd.DataFrame({\n",
        "    \"Region\": [\"North\", \"North\", \"South\", \"South\", \"West\", \"West\", \"East\", \"East\"],\n",
        "    \"Product\": [\"A\", \"B\", \"A\", \"B\", \"A\", \"B\", \"A\", \"B\"],\n",
        "    \"Sales\": [1000, 1200, 1500, 1600, 1200, 1300, 1800, 1900],\n",
        "    \"Quantity\": [30, 35, 45, 50, 20, 25, 60, 65]\n",
        "})\n",
        "# 创建数据透视表\n",
        "pd.pivot_table(df, index=\"Region\", columns=\"Product\", values=[\"Sales\", \"Quantity\"], aggfunc=\"sum\")"
      ],
      "metadata": {
        "id": "kR6fMN3KH6wM"
      },
      "id": "kR6fMN3KH6wM",
      "execution_count": null,
      "outputs": []
    },
    {
      "cell_type": "markdown",
      "id": "b09bf3a5",
      "metadata": {
        "id": "b09bf3a5"
      },
      "source": [
        "## 错误"
      ]
    },
    {
      "cell_type": "markdown",
      "source": [
        "SettingWithCopyWarning 报警复现、原因、解决方案 在pandas中，要么使用loc，要么先copy\n",
        "\n",
        "忽略报警"
      ],
      "metadata": {
        "id": "FX_wVeMJK5iP"
      },
      "id": "FX_wVeMJK5iP"
    },
    {
      "cell_type": "code",
      "execution_count": null,
      "id": "89776b69",
      "metadata": {
        "id": "89776b69"
      },
      "outputs": [],
      "source": [
        "import warnings\n",
        "warnings.filterwarnings ('ignore')"
      ]
    }
  ],
  "metadata": {
    "kernelspec": {
      "display_name": "Python 3",
      "name": "python3"
    },
    "language_info": {
      "name": "python"
    },
    "toc": {
      "base_numbering": 1,
      "nav_menu": {},
      "number_sections": true,
      "sideBar": true,
      "skip_h1_title": false,
      "title_cell": "Table of Contents",
      "title_sidebar": "Contents",
      "toc_cell": false,
      "toc_position": {
        "height": "calc(100% - 180px)",
        "left": "10px",
        "top": "150px",
        "width": "360px"
      },
      "toc_section_display": true,
      "toc_window_display": true
    },
    "colab": {
      "provenance": [],
      "toc_visible": true,
      "collapsed_sections": [
        "2d31d2d7",
        "3c5e48c2",
        "78c470ea",
        "cdf4aea2",
        "8e840f0f",
        "yCSdroexO0PN",
        "WMze25VnJFNa",
        "MIvtWpCtJve4",
        "iAVhQtJZJws2",
        "xOZ_ByH3lBQg",
        "k4CUVZCJdWIG",
        "nD5U2cZ7sUTq",
        "eskZcdPN-ErJ",
        "W-igCtbSm1w2",
        "C4NdfSvtsAZN",
        "KZNZed2hsDwQ",
        "_8fgu-v2yWOM",
        "puLeG1aWsFjO",
        "922jC5hnsI39",
        "e99HfHiaHlPl",
        "J7F8XYjtIz7Y",
        "fUn-owP2S8Sz",
        "DBGOqkrjc_Rn",
        "zBMeIU3sf3If",
        "apHcRxuehmQc",
        "OEGK6bHujg0g",
        "0agU6OifTCJF",
        "A_j3_DVYQh7p",
        "7blomX1sRFwI",
        "NIh9-8Kdj0Y-",
        "IRT8l897VtBM",
        "i402SN1U7rSt",
        "geC0iN_m-B0b",
        "QtaHprAN_Guc",
        "7VpofLk3ASdt",
        "zPkOkNuyC7Qv"
      ],
      "include_colab_link": true
    },
    "gpuClass": "standard"
  },
  "nbformat": 4,
  "nbformat_minor": 5
}